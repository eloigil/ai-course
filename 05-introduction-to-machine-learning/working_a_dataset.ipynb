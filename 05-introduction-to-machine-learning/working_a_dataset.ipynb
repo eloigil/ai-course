{
  "nbformat": 4,
  "nbformat_minor": 0,
  "metadata": {
    "colab": {
      "name": "working-a-dataset.ipynb",
      "provenance": [],
      "authorship_tag": "ABX9TyMzFgb97AsxTHAS5L5EDh/x",
      "include_colab_link": true
    },
    "kernelspec": {
      "name": "python3",
      "display_name": "Python 3"
    }
  },
  "cells": [
    {
      "cell_type": "markdown",
      "metadata": {
        "id": "view-in-github",
        "colab_type": "text"
      },
      "source": [
        "<a href=\"https://colab.research.google.com/github/eloigil/ai-course/blob/master/05-introduction-to-machine-learning/working_a_dataset.ipynb\" target=\"_parent\"><img src=\"https://colab.research.google.com/assets/colab-badge.svg\" alt=\"Open In Colab\"/></a>"
      ]
    },
    {
      "cell_type": "code",
      "metadata": {
        "id": "L_MgcEl5GPQd",
        "colab_type": "code",
        "colab": {}
      },
      "source": [
        "import torch\n",
        "\n",
        "from torchvision import utils\n",
        "from torchvision import models\n",
        "from torchvision import datasets\n",
        "from torchvision import transforms\n",
        "\n",
        "from PIL import Image\n",
        "import urllib.request as request\n",
        "from matplotlib import pyplot as plt"
      ],
      "execution_count": 0,
      "outputs": []
    },
    {
      "cell_type": "markdown",
      "metadata": {
        "id": "Df-FB2XHGV7N",
        "colab_type": "text"
      },
      "source": [
        "# Working with a dataset\n",
        "---"
      ]
    },
    {
      "cell_type": "code",
      "metadata": {
        "id": "yUIejhPOGUhV",
        "colab_type": "code",
        "colab": {
          "base_uri": "https://localhost:8080/",
          "height": 51
        },
        "outputId": "deeaee74-fb3c-4fa9-f9a9-c7b578a53126"
      },
      "source": [
        "data_path = 'data/'\n",
        "dataset = datasets.CIFAR10(data_path, train=True, download=True)\n",
        "validation_set = datasets.CIFAR10(data_path, train=False, download=True)"
      ],
      "execution_count": 4,
      "outputs": [
        {
          "output_type": "stream",
          "text": [
            "Files already downloaded and verified\n",
            "Files already downloaded and verified\n"
          ],
          "name": "stdout"
        }
      ]
    },
    {
      "cell_type": "code",
      "metadata": {
        "id": "40XZ7uI5HAEX",
        "colab_type": "code",
        "colab": {}
      },
      "source": [
        "classes = ['plane', 'car', 'bird', 'cat', 'deer', 'dog', 'frog', 'horse', 'ship', 'truck']"
      ],
      "execution_count": 0,
      "outputs": []
    },
    {
      "cell_type": "code",
      "metadata": {
        "id": "iKXuTj59HjSC",
        "colab_type": "code",
        "colab": {
          "base_uri": "https://localhost:8080/",
          "height": 34
        },
        "outputId": "f03adcb6-709f-4327-9a3e-d5cc05adde2d"
      },
      "source": [
        "len(dataset)"
      ],
      "execution_count": 6,
      "outputs": [
        {
          "output_type": "execute_result",
          "data": {
            "text/plain": [
              "50000"
            ]
          },
          "metadata": {
            "tags": []
          },
          "execution_count": 6
        }
      ]
    },
    {
      "cell_type": "code",
      "metadata": {
        "id": "KYNIaBPrHn4M",
        "colab_type": "code",
        "colab": {
          "base_uri": "https://localhost:8080/",
          "height": 54
        },
        "outputId": "62900b2e-d52e-45bc-e317-c7f6eb9b8eb9"
      },
      "source": [
        "img, label = dataset[50]\n",
        "img, label, classes[label]"
      ],
      "execution_count": 11,
      "outputs": [
        {
          "output_type": "execute_result",
          "data": {
            "text/plain": [
              "(<PIL.Image.Image image mode=RGB size=32x32 at 0x7F5B6D4BC5F8>, 9, 'truck')"
            ]
          },
          "metadata": {
            "tags": []
          },
          "execution_count": 11
        }
      ]
    },
    {
      "cell_type": "code",
      "metadata": {
        "id": "NUwsqTjaHzfk",
        "colab_type": "code",
        "colab": {
          "base_uri": "https://localhost:8080/",
          "height": 283
        },
        "outputId": "947c6588-d772-40f9-ebfe-1f0a1a6b6791"
      },
      "source": [
        "plt.imshow(img)"
      ],
      "execution_count": 13,
      "outputs": [
        {
          "output_type": "execute_result",
          "data": {
            "text/plain": [
              "<matplotlib.image.AxesImage at 0x7f5b6cfa67f0>"
            ]
          },
          "metadata": {
            "tags": []
          },
          "execution_count": 13
        },
        {
          "output_type": "display_data",
          "data": {
            "image/png": "[encoded data removed]",
            "text/plain": [
              "<Figure size 432x288 with 1 Axes>"
            ]
          },
          "metadata": {
            "tags": [],
            "needs_background": "light"
          }
        }
      ]
    },
    {
      "cell_type": "code",
      "metadata": {
        "id": "RI3whaTsITgm",
        "colab_type": "code",
        "colab": {
          "base_uri": "https://localhost:8080/",
          "height": 442
        },
        "outputId": "5c784bf2-b6a5-471e-ef3e-67ca44ba03e1"
      },
      "source": [
        "tensor_transform = transforms.ToTensor()\n",
        "\n",
        "img_tensor = tensor_transform(img)\n",
        "\n",
        "img, img_tensor, img_tensor.shape"
      ],
      "execution_count": 16,
      "outputs": [
        {
          "output_type": "execute_result",
          "data": {
            "text/plain": [
              "(<PIL.Image.Image image mode=RGB size=32x32 at 0x7F5B6D4BC5F8>,\n",
              " tensor([[[0.0627, 0.0667, 0.0667,  ..., 0.2431, 0.2157, 0.2000],\n",
              "          [0.0627, 0.0627, 0.0588,  ..., 0.2431, 0.2275, 0.2039],\n",
              "          [0.0627, 0.0588, 0.0588,  ..., 0.2235, 0.2314, 0.2196],\n",
              "          ...,\n",
              "          [0.3765, 0.4471, 0.4667,  ..., 0.5020, 0.4706, 0.4588],\n",
              "          [0.4627, 0.3922, 0.4471,  ..., 0.5451, 0.5137, 0.4745],\n",
              "          [0.5647, 0.5333, 0.4118,  ..., 0.5686, 0.5373, 0.5137]],\n",
              " \n",
              "         [[0.2980, 0.3020, 0.3020,  ..., 0.4157, 0.3882, 0.3686],\n",
              "          [0.2980, 0.2980, 0.2941,  ..., 0.4275, 0.4118, 0.3922],\n",
              "          [0.2980, 0.2941, 0.2941,  ..., 0.4314, 0.4353, 0.4275],\n",
              "          ...,\n",
              "          [0.4314, 0.4980, 0.5176,  ..., 0.5294, 0.5098, 0.5137],\n",
              "          [0.5176, 0.4431, 0.4941,  ..., 0.5725, 0.5490, 0.5255],\n",
              "          [0.5804, 0.5490, 0.4471,  ..., 0.5922, 0.5647, 0.5529]],\n",
              " \n",
              "         [[0.2902, 0.2941, 0.2941,  ..., 0.3412, 0.3137, 0.2941],\n",
              "          [0.2902, 0.2902, 0.2902,  ..., 0.3294, 0.3137, 0.2941],\n",
              "          [0.2902, 0.2863, 0.2863,  ..., 0.3098, 0.3137, 0.3059],\n",
              "          ...,\n",
              "          [0.5412, 0.6235, 0.6549,  ..., 0.6000, 0.5686, 0.5569],\n",
              "          [0.6235, 0.5686, 0.6392,  ..., 0.6235, 0.6000, 0.5765],\n",
              "          [0.6784, 0.6588, 0.5608,  ..., 0.6667, 0.6392, 0.6196]]]),\n",
              " torch.Size([3, 32, 32]))"
            ]
          },
          "metadata": {
            "tags": []
          },
          "execution_count": 16
        }
      ]
    },
    {
      "cell_type": "code",
      "metadata": {
        "id": "0nH9UgIZK6Oq",
        "colab_type": "code",
        "colab": {
          "base_uri": "https://localhost:8080/",
          "height": 34
        },
        "outputId": "ef651ec8-379d-4b6d-df75-944d39e2e374"
      },
      "source": [
        "# importing img directly as tensor\n",
        "dataset = datasets.CIFAR10(data_path, train=True, download=True, transform=transforms.ToTensor())"
      ],
      "execution_count": 22,
      "outputs": [
        {
          "output_type": "stream",
          "text": [
            "Files already downloaded and verified\n"
          ],
          "name": "stdout"
        }
      ]
    },
    {
      "cell_type": "code",
      "metadata": {
        "id": "_r10yhLBLgRF",
        "colab_type": "code",
        "colab": {
          "base_uri": "https://localhost:8080/",
          "height": 408
        },
        "outputId": "584dbe8e-aee6-49ed-e994-03e0ce6eaabd"
      },
      "source": [
        "img, label = dataset[50]\n",
        "img"
      ],
      "execution_count": 31,
      "outputs": [
        {
          "output_type": "execute_result",
          "data": {
            "text/plain": [
              "tensor([[[0.0627, 0.0667, 0.0667,  ..., 0.2431, 0.2157, 0.2000],\n",
              "         [0.0627, 0.0627, 0.0588,  ..., 0.2431, 0.2275, 0.2039],\n",
              "         [0.0627, 0.0588, 0.0588,  ..., 0.2235, 0.2314, 0.2196],\n",
              "         ...,\n",
              "         [0.3765, 0.4471, 0.4667,  ..., 0.5020, 0.4706, 0.4588],\n",
              "         [0.4627, 0.3922, 0.4471,  ..., 0.5451, 0.5137, 0.4745],\n",
              "         [0.5647, 0.5333, 0.4118,  ..., 0.5686, 0.5373, 0.5137]],\n",
              "\n",
              "        [[0.2980, 0.3020, 0.3020,  ..., 0.4157, 0.3882, 0.3686],\n",
              "         [0.2980, 0.2980, 0.2941,  ..., 0.4275, 0.4118, 0.3922],\n",
              "         [0.2980, 0.2941, 0.2941,  ..., 0.4314, 0.4353, 0.4275],\n",
              "         ...,\n",
              "         [0.4314, 0.4980, 0.5176,  ..., 0.5294, 0.5098, 0.5137],\n",
              "         [0.5176, 0.4431, 0.4941,  ..., 0.5725, 0.5490, 0.5255],\n",
              "         [0.5804, 0.5490, 0.4471,  ..., 0.5922, 0.5647, 0.5529]],\n",
              "\n",
              "        [[0.2902, 0.2941, 0.2941,  ..., 0.3412, 0.3137, 0.2941],\n",
              "         [0.2902, 0.2902, 0.2902,  ..., 0.3294, 0.3137, 0.2941],\n",
              "         [0.2902, 0.2863, 0.2863,  ..., 0.3098, 0.3137, 0.3059],\n",
              "         ...,\n",
              "         [0.5412, 0.6235, 0.6549,  ..., 0.6000, 0.5686, 0.5569],\n",
              "         [0.6235, 0.5686, 0.6392,  ..., 0.6235, 0.6000, 0.5765],\n",
              "         [0.6784, 0.6588, 0.5608,  ..., 0.6667, 0.6392, 0.6196]]])"
            ]
          },
          "metadata": {
            "tags": []
          },
          "execution_count": 31
        }
      ]
    },
    {
      "cell_type": "code",
      "metadata": {
        "id": "iH08Rv83LJj7",
        "colab_type": "code",
        "colab": {
          "base_uri": "https://localhost:8080/",
          "height": 34
        },
        "outputId": "26f008fb-436d-46a9-85da-89dde6635775"
      },
      "source": [
        "img.min(), img.max()"
      ],
      "execution_count": 25,
      "outputs": [
        {
          "output_type": "execute_result",
          "data": {
            "text/plain": [
              "(tensor(0.0314), tensor(0.9529))"
            ]
          },
          "metadata": {
            "tags": []
          },
          "execution_count": 25
        }
      ]
    },
    {
      "cell_type": "code",
      "metadata": {
        "id": "qJ0VTN5ML3yO",
        "colab_type": "code",
        "colab": {
          "base_uri": "https://localhost:8080/",
          "height": 283
        },
        "outputId": "27ea10fb-337c-4607-8ef7-1830fa142621"
      },
      "source": [
        "plt.imshow(img.permute(1,2,0))"
      ],
      "execution_count": 28,
      "outputs": [
        {
          "output_type": "execute_result",
          "data": {
            "text/plain": [
              "<matplotlib.image.AxesImage at 0x7f5b6cdb1e10>"
            ]
          },
          "metadata": {
            "tags": []
          },
          "execution_count": 28
        },
        {
          "output_type": "display_data",
          "data": {
            "image/png": "[encoded data removed]",
            "text/plain": [
              "<Figure size 432x288 with 1 Axes>"
            ]
          },
          "metadata": {
            "tags": [],
            "needs_background": "light"
          }
        }
      ]
    },
    {
      "cell_type": "code",
      "metadata": {
        "id": "cZDPn6E3Ock7",
        "colab_type": "code",
        "colab": {}
      },
      "source": [
        "imgs = torch.stack([img_tensor for img_tensor, _ in dataset], dim = 3)"
      ],
      "execution_count": 0,
      "outputs": []
    },
    {
      "cell_type": "code",
      "metadata": {
        "id": "rTdyRwgnO6Xc",
        "colab_type": "code",
        "colab": {
          "base_uri": "https://localhost:8080/",
          "height": 34
        },
        "outputId": "e79d7f41-bf2f-42f1-e12f-60c87c137180"
      },
      "source": [
        "imgs.shape"
      ],
      "execution_count": 33,
      "outputs": [
        {
          "output_type": "execute_result",
          "data": {
            "text/plain": [
              "torch.Size([3, 32, 32, 50000])"
            ]
          },
          "metadata": {
            "tags": []
          },
          "execution_count": 33
        }
      ]
    },
    {
      "cell_type": "code",
      "metadata": {
        "id": "x5kar2UzPG8v",
        "colab_type": "code",
        "colab": {
          "base_uri": "https://localhost:8080/",
          "height": 34
        },
        "outputId": "a9e0ca95-e062-4d9c-9313-572c2f3d300e"
      },
      "source": [
        "imgs.view(3, -1).mean(dim=1)"
      ],
      "execution_count": 34,
      "outputs": [
        {
          "output_type": "execute_result",
          "data": {
            "text/plain": [
              "tensor([0.4915, 0.4823, 0.4468])"
            ]
          },
          "metadata": {
            "tags": []
          },
          "execution_count": 34
        }
      ]
    },
    {
      "cell_type": "code",
      "metadata": {
        "id": "4ugBqWQGPa1S",
        "colab_type": "code",
        "colab": {
          "base_uri": "https://localhost:8080/",
          "height": 34
        },
        "outputId": "eec87a0b-8c72-46b2-cb7c-d78df6c13c4d"
      },
      "source": [
        "imgs.view(3, -1).std(dim=1)"
      ],
      "execution_count": 35,
      "outputs": [
        {
          "output_type": "execute_result",
          "data": {
            "text/plain": [
              "tensor([0.2470, 0.2435, 0.2616])"
            ]
          },
          "metadata": {
            "tags": []
          },
          "execution_count": 35
        }
      ]
    },
    {
      "cell_type": "code",
      "metadata": {
        "id": "yFhrBVEkRGU-",
        "colab_type": "code",
        "colab": {}
      },
      "source": [
        "transform = transforms.Compose(\n",
        "    [transforms.ToTensor(),\n",
        "     transforms.Normalize((0.4915, 0.4823, 0.4468), (0.2470, 0.2435, 0.2616))\n",
        "     ])"
      ],
      "execution_count": 0,
      "outputs": []
    },
    {
      "cell_type": "code",
      "metadata": {
        "id": "4-eEgeLMSB6H",
        "colab_type": "code",
        "colab": {
          "base_uri": "https://localhost:8080/",
          "height": 34
        },
        "outputId": "c69f2606-d84b-4862-f0ee-299ebc2a262d"
      },
      "source": [
        "dataset = datasets.CIFAR10(data_path, train=True, download=True, transform=transform)"
      ],
      "execution_count": 38,
      "outputs": [
        {
          "output_type": "stream",
          "text": [
            "Files already downloaded and verified\n"
          ],
          "name": "stdout"
        }
      ]
    },
    {
      "cell_type": "code",
      "metadata": {
        "id": "3lzuf2lXSWLT",
        "colab_type": "code",
        "colab": {
          "base_uri": "https://localhost:8080/",
          "height": 320
        },
        "outputId": "3d8b40bc-2623-4abc-cf18-3145c6ea834e"
      },
      "source": [
        "img_transformed, label = dataset[126]\n",
        "\n",
        "plt.imshow(img_transformed.permute(1,2,0))\n",
        "classes[label]"
      ],
      "execution_count": 40,
      "outputs": [
        {
          "output_type": "stream",
          "text": [
            "Clipping input data to the valid range for imshow with RGB data ([0..1] for floats or [0..255] for integers).\n"
          ],
          "name": "stderr"
        },
        {
          "output_type": "execute_result",
          "data": {
            "text/plain": [
              "'car'"
            ]
          },
          "metadata": {
            "tags": []
          },
          "execution_count": 40
        },
        {
          "output_type": "display_data",
          "data": {
            "image/png": "[encoded data removed]",
            "text/plain": [
              "<Figure size 432x288 with 1 Axes>"
            ]
          },
          "metadata": {
            "tags": [],
            "needs_background": "light"
          }
        }
      ]
    }
  ]
}