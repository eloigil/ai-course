{
  "nbformat": 4,
  "nbformat_minor": 0,
  "metadata": {
    "colab": {
      "name": "building-a-model.ipynb",
      "provenance": [],
      "authorship_tag": "ABX9TyNAd9baJSL410VOnE5f/JHQ",
      "include_colab_link": true
    },
    "kernelspec": {
      "name": "python3",
      "display_name": "Python 3"
    },
    "widgets": {
      "application/vnd.jupyter.widget-state+json": {
        "776e7756960c40c79d72583a2acc9224": {
          "model_module": "@jupyter-widgets/controls",
          "model_name": "HBoxModel",
          "state": {
            "_view_name": "HBoxView",
            "_dom_classes": [],
            "_model_name": "HBoxModel",
            "_view_module": "@jupyter-widgets/controls",
            "_model_module_version": "1.5.0",
            "_view_count": null,
            "_view_module_version": "1.5.0",
            "box_style": "",
            "layout": "IPY_MODEL_f111752f3e2e46c49b09d07080b3917c",
            "_model_module": "@jupyter-widgets/controls",
            "children": [
              "IPY_MODEL_27014c75e9784b6394811cccb671a077",
              "IPY_MODEL_83642293dff84e86901862fcf66de1f2"
            ]
          }
        },
        "f111752f3e2e46c49b09d07080b3917c": {
          "model_module": "@jupyter-widgets/base",
          "model_name": "LayoutModel",
          "state": {
            "_view_name": "LayoutView",
            "grid_template_rows": null,
            "right": null,
            "justify_content": null,
            "_view_module": "@jupyter-widgets/base",
            "overflow": null,
            "_model_module_version": "1.2.0",
            "_view_count": null,
            "flex_flow": null,
            "width": null,
            "min_width": null,
            "border": null,
            "align_items": null,
            "bottom": null,
            "_model_module": "@jupyter-widgets/base",
            "top": null,
            "grid_column": null,
            "overflow_y": null,
            "overflow_x": null,
            "grid_auto_flow": null,
            "grid_area": null,
            "grid_template_columns": null,
            "flex": null,
            "_model_name": "LayoutModel",
            "justify_items": null,
            "grid_row": null,
            "max_height": null,
            "align_content": null,
            "visibility": null,
            "align_self": null,
            "height": null,
            "min_height": null,
            "padding": null,
            "grid_auto_rows": null,
            "grid_gap": null,
            "max_width": null,
            "order": null,
            "_view_module_version": "1.2.0",
            "grid_template_areas": null,
            "object_position": null,
            "object_fit": null,
            "grid_auto_columns": null,
            "margin": null,
            "display": null,
            "left": null
          }
        },
        "27014c75e9784b6394811cccb671a077": {
          "model_module": "@jupyter-widgets/controls",
          "model_name": "IntProgressModel",
          "state": {
            "_view_name": "ProgressView",
            "style": "IPY_MODEL_6dfce62af91e477e8cc0b5026357c1b5",
            "_dom_classes": [],
            "description": "",
            "_model_name": "IntProgressModel",
            "bar_style": "info",
            "max": 1,
            "_view_module": "@jupyter-widgets/controls",
            "_model_module_version": "1.5.0",
            "value": 1,
            "_view_count": null,
            "_view_module_version": "1.5.0",
            "orientation": "horizontal",
            "min": 0,
            "description_tooltip": null,
            "_model_module": "@jupyter-widgets/controls",
            "layout": "IPY_MODEL_9465609bcf024b21b7e1aa5eda9d2171"
          }
        },
        "83642293dff84e86901862fcf66de1f2": {
          "model_module": "@jupyter-widgets/controls",
          "model_name": "HTMLModel",
          "state": {
            "_view_name": "HTMLView",
            "style": "IPY_MODEL_08ee44cd0aeb4f4ca59fed691fecd018",
            "_dom_classes": [],
            "description": "",
            "_model_name": "HTMLModel",
            "placeholder": "​",
            "_view_module": "@jupyter-widgets/controls",
            "_model_module_version": "1.5.0",
            "value": " 170500096/? [00:30&lt;00:00, 17015857.41it/s]",
            "_view_count": null,
            "_view_module_version": "1.5.0",
            "description_tooltip": null,
            "_model_module": "@jupyter-widgets/controls",
            "layout": "IPY_MODEL_a4fa8d257f4c4522a7f880d9c7eef0fb"
          }
        },
        "6dfce62af91e477e8cc0b5026357c1b5": {
          "model_module": "@jupyter-widgets/controls",
          "model_name": "ProgressStyleModel",
          "state": {
            "_view_name": "StyleView",
            "_model_name": "ProgressStyleModel",
            "description_width": "initial",
            "_view_module": "@jupyter-widgets/base",
            "_model_module_version": "1.5.0",
            "_view_count": null,
            "_view_module_version": "1.2.0",
            "bar_color": null,
            "_model_module": "@jupyter-widgets/controls"
          }
        },
        "9465609bcf024b21b7e1aa5eda9d2171": {
          "model_module": "@jupyter-widgets/base",
          "model_name": "LayoutModel",
          "state": {
            "_view_name": "LayoutView",
            "grid_template_rows": null,
            "right": null,
            "justify_content": null,
            "_view_module": "@jupyter-widgets/base",
            "overflow": null,
            "_model_module_version": "1.2.0",
            "_view_count": null,
            "flex_flow": null,
            "width": null,
            "min_width": null,
            "border": null,
            "align_items": null,
            "bottom": null,
            "_model_module": "@jupyter-widgets/base",
            "top": null,
            "grid_column": null,
            "overflow_y": null,
            "overflow_x": null,
            "grid_auto_flow": null,
            "grid_area": null,
            "grid_template_columns": null,
            "flex": null,
            "_model_name": "LayoutModel",
            "justify_items": null,
            "grid_row": null,
            "max_height": null,
            "align_content": null,
            "visibility": null,
            "align_self": null,
            "height": null,
            "min_height": null,
            "padding": null,
            "grid_auto_rows": null,
            "grid_gap": null,
            "max_width": null,
            "order": null,
            "_view_module_version": "1.2.0",
            "grid_template_areas": null,
            "object_position": null,
            "object_fit": null,
            "grid_auto_columns": null,
            "margin": null,
            "display": null,
            "left": null
          }
        },
        "08ee44cd0aeb4f4ca59fed691fecd018": {
          "model_module": "@jupyter-widgets/controls",
          "model_name": "DescriptionStyleModel",
          "state": {
            "_view_name": "StyleView",
            "_model_name": "DescriptionStyleModel",
            "description_width": "",
            "_view_module": "@jupyter-widgets/base",
            "_model_module_version": "1.5.0",
            "_view_count": null,
            "_view_module_version": "1.2.0",
            "_model_module": "@jupyter-widgets/controls"
          }
        },
        "a4fa8d257f4c4522a7f880d9c7eef0fb": {
          "model_module": "@jupyter-widgets/base",
          "model_name": "LayoutModel",
          "state": {
            "_view_name": "LayoutView",
            "grid_template_rows": null,
            "right": null,
            "justify_content": null,
            "_view_module": "@jupyter-widgets/base",
            "overflow": null,
            "_model_module_version": "1.2.0",
            "_view_count": null,
            "flex_flow": null,
            "width": null,
            "min_width": null,
            "border": null,
            "align_items": null,
            "bottom": null,
            "_model_module": "@jupyter-widgets/base",
            "top": null,
            "grid_column": null,
            "overflow_y": null,
            "overflow_x": null,
            "grid_auto_flow": null,
            "grid_area": null,
            "grid_template_columns": null,
            "flex": null,
            "_model_name": "LayoutModel",
            "justify_items": null,
            "grid_row": null,
            "max_height": null,
            "align_content": null,
            "visibility": null,
            "align_self": null,
            "height": null,
            "min_height": null,
            "padding": null,
            "grid_auto_rows": null,
            "grid_gap": null,
            "max_width": null,
            "order": null,
            "_view_module_version": "1.2.0",
            "grid_template_areas": null,
            "object_position": null,
            "object_fit": null,
            "grid_auto_columns": null,
            "margin": null,
            "display": null,
            "left": null
          }
        }
      }
    }
  },
  "cells": [
    {
      "cell_type": "markdown",
      "metadata": {
        "id": "view-in-github",
        "colab_type": "text"
      },
      "source": [
        "<a href=\"https://colab.research.google.com/github/eloigil/ai-course/blob/master/05-introduction-to-machine-learning/building_a_model.ipynb\" target=\"_parent\"><img src=\"https://colab.research.google.com/assets/colab-badge.svg\" alt=\"Open In Colab\"/></a>"
      ]
    },
    {
      "cell_type": "code",
      "metadata": {
        "id": "Qq4_ahQji8AX",
        "colab_type": "code",
        "colab": {}
      },
      "source": [
        "import torch\n",
        "import torch.nn as nn\n",
        "import torch.optim as optim\n",
        "\n",
        "from torchvision import utils\n",
        "from torchvision import models\n",
        "from torchvision import datasets\n",
        "from torchvision import transforms\n",
        "\n",
        "from PIL import Image\n",
        "import urllib.request as request\n",
        "from matplotlib import pyplot as plt"
      ],
      "execution_count": 0,
      "outputs": []
    },
    {
      "cell_type": "markdown",
      "metadata": {
        "id": "4ZAk0hAzjNyE",
        "colab_type": "text"
      },
      "source": [
        "# Building a model\n",
        "---"
      ]
    },
    {
      "cell_type": "code",
      "metadata": {
        "id": "Zn7X_FQMjSvx",
        "colab_type": "code",
        "colab": {
          "base_uri": "https://localhost:8080/",
          "height": 120,
          "referenced_widgets": [
            "776e7756960c40c79d72583a2acc9224",
            "f111752f3e2e46c49b09d07080b3917c",
            "27014c75e9784b6394811cccb671a077",
            "83642293dff84e86901862fcf66de1f2",
            "6dfce62af91e477e8cc0b5026357c1b5",
            "9465609bcf024b21b7e1aa5eda9d2171",
            "08ee44cd0aeb4f4ca59fed691fecd018",
            "a4fa8d257f4c4522a7f880d9c7eef0fb"
          ]
        },
        "outputId": "90b44dfd-f84d-415a-9b64-a0e590ca342c"
      },
      "source": [
        "data_path = 'data/'\n",
        "full_data_set = datasets.CIFAR10(data_path, train=True, download=True,\n",
        "                                 transform=transforms.Compose([\n",
        "                                    transforms.ToTensor(),\n",
        "                                    transforms.Normalize((0.4915, 0.4823, 0.4468),\n",
        "                                                         (0.2470, 0.2435, 0.2616))\n",
        "                                  ])\n",
        "                                 )\n",
        "\n",
        "full_validation_set = datasets.CIFAR10(data_path, train=False, download=True,\n",
        "                                 transform=transforms.Compose([\n",
        "                                    transforms.ToTensor(),\n",
        "                                    transforms.Normalize((0.4915, 0.4823, 0.4468),\n",
        "                                                         (0.2470, 0.2435, 0.2616))\n",
        "                                  ])\n",
        "                                 )"
      ],
      "execution_count": 2,
      "outputs": [
        {
          "output_type": "stream",
          "text": [
            "Downloading https://www.cs.toronto.edu/~kriz/cifar-10-python.tar.gz to data/cifar-10-python.tar.gz\n"
          ],
          "name": "stdout"
        },
        {
          "output_type": "display_data",
          "data": {
            "application/vnd.jupyter.widget-view+json": {
              "model_id": "776e7756960c40c79d72583a2acc9224",
              "version_minor": 0,
              "version_major": 2
            },
            "text/plain": [
              "HBox(children=(IntProgress(value=1, bar_style='info', max=1), HTML(value='')))"
            ]
          },
          "metadata": {
            "tags": []
          }
        },
        {
          "output_type": "stream",
          "text": [
            "Extracting data/cifar-10-python.tar.gz to data/\n",
            "Files already downloaded and verified\n"
          ],
          "name": "stdout"
        }
      ]
    },
    {
      "cell_type": "code",
      "metadata": {
        "id": "lrfYpFtZqY0V",
        "colab_type": "code",
        "colab": {}
      },
      "source": [
        "size = 4\n",
        "dataloader = torch.utils.data.DataLoader(full_data_set, batch_size=size, shuffle=True, num_workers=2)"
      ],
      "execution_count": 0,
      "outputs": []
    },
    {
      "cell_type": "code",
      "metadata": {
        "id": "Qee8JIKQrAPp",
        "colab_type": "code",
        "colab": {
          "base_uri": "https://localhost:8080/",
          "height": 243
        },
        "outputId": "b3d260e6-37c6-494a-f935-cf2861bb5e1c"
      },
      "source": [
        "data_iterator = iter(dataloader)\n",
        "imgs, labels = data_iterator.next()\n",
        "\n",
        "classes = ['plane', 'car', 'bird', 'cat', 'deer', 'dog', 'frog', 'horse', 'ship', 'truck']\n",
        "\n",
        "plt.imshow(utils.make_grid(imgs).permute(1,2,0))\n",
        "\n",
        "for i in range(size):\n",
        "  print(classes[labels[i]])"
      ],
      "execution_count": 6,
      "outputs": [
        {
          "output_type": "stream",
          "text": [
            "Clipping input data to the valid range for imshow with RGB data ([0..1] for floats or [0..255] for integers).\n"
          ],
          "name": "stderr"
        },
        {
          "output_type": "stream",
          "text": [
            "ship\n",
            "cat\n",
            "frog\n",
            "bird\n"
          ],
          "name": "stdout"
        },
        {
          "output_type": "display_data",
          "data": {
            "image/png": "[encoded data removed]",
            "text/plain": [
              "<Figure size 432x288 with 1 Axes>"
            ]
          },
          "metadata": {
            "tags": [],
            "needs_background": "light"
          }
        }
      ]
    },
    {
      "cell_type": "code",
      "metadata": {
        "id": "Mp6z8N5jr5rE",
        "colab_type": "code",
        "colab": {}
      },
      "source": [
        "class_names = ['car', 'cat']\n",
        "\n",
        "label_map = {1: 0, 3: 1}\n",
        "\n",
        "data_set = [(img, label_map[label]) for img, label in full_data_set if label in [1, 3]]\n",
        "validation_set = [(img, label_map[label]) for img, label in full_validation_set if label in [1, 3]]"
      ],
      "execution_count": 0,
      "outputs": []
    },
    {
      "cell_type": "code",
      "metadata": {
        "id": "klF8SMzjtGSy",
        "colab_type": "code",
        "colab": {
          "base_uri": "https://localhost:8080/",
          "height": 34
        },
        "outputId": "2620b8f2-b442-4b54-c05b-7ed60624c37c"
      },
      "source": [
        "img, label = data_set[20]\n",
        "img.shape"
      ],
      "execution_count": 8,
      "outputs": [
        {
          "output_type": "execute_result",
          "data": {
            "text/plain": [
              "torch.Size([3, 32, 32])"
            ]
          },
          "metadata": {
            "tags": []
          },
          "execution_count": 8
        }
      ]
    },
    {
      "cell_type": "code",
      "metadata": {
        "id": "w_H1dWe7tO2B",
        "colab_type": "code",
        "colab": {}
      },
      "source": [
        "model = nn.Sequential (\n",
        "    nn.Linear(3 * 32 * 32, 512),\n",
        "     nn.Tanh(),\n",
        "     nn.Linear(512,2)\n",
        "\n",
        ")"
      ],
      "execution_count": 0,
      "outputs": []
    },
    {
      "cell_type": "code",
      "metadata": {
        "id": "6Er_hvkPtwsf",
        "colab_type": "code",
        "colab": {}
      },
      "source": [
        "def softmax(x):\n",
        "  return torch.exp(x) / torch.exp(x).sum()"
      ],
      "execution_count": 0,
      "outputs": []
    },
    {
      "cell_type": "code",
      "metadata": {
        "id": "W-LeSv6at-3f",
        "colab_type": "code",
        "colab": {}
      },
      "source": [
        "x = torch.tensor([1.0, 2.0, 3.0])"
      ],
      "execution_count": 0,
      "outputs": []
    },
    {
      "cell_type": "code",
      "metadata": {
        "id": "fmBYGz2buH24",
        "colab_type": "code",
        "colab": {
          "base_uri": "https://localhost:8080/",
          "height": 34
        },
        "outputId": "c5a11f70-656a-4d75-e11a-ebd3ce80793d"
      },
      "source": [
        "softmax(x)"
      ],
      "execution_count": 15,
      "outputs": [
        {
          "output_type": "execute_result",
          "data": {
            "text/plain": [
              "tensor([0.0900, 0.2447, 0.6652])"
            ]
          },
          "metadata": {
            "tags": []
          },
          "execution_count": 15
        }
      ]
    },
    {
      "cell_type": "code",
      "metadata": {
        "id": "9NEWeQ7KuXgf",
        "colab_type": "code",
        "colab": {}
      },
      "source": [
        "model = nn.Sequential (\n",
        "    nn.Linear(3 * 32 * 32, 512),\n",
        "    nn.Tanh(),\n",
        "    nn.Linear(512,2),\n",
        "    nn.Softmax(dim=1)\n",
        ")"
      ],
      "execution_count": 0,
      "outputs": []
    },
    {
      "cell_type": "code",
      "metadata": {
        "id": "ja3XCLcRusuM",
        "colab_type": "code",
        "colab": {
          "base_uri": "https://localhost:8080/",
          "height": 320
        },
        "outputId": "40134ab6-7102-4edb-8820-b1604d9e6430"
      },
      "source": [
        "img, label = data_set[20]\n",
        "plt.imshow(img.permute(1,2,0))\n",
        "class_names[label]"
      ],
      "execution_count": 31,
      "outputs": [
        {
          "output_type": "stream",
          "text": [
            "Clipping input data to the valid range for imshow with RGB data ([0..1] for floats or [0..255] for integers).\n"
          ],
          "name": "stderr"
        },
        {
          "output_type": "execute_result",
          "data": {
            "text/plain": [
              "'car'"
            ]
          },
          "metadata": {
            "tags": []
          },
          "execution_count": 31
        },
        {
          "output_type": "display_data",
          "data": {
            "image/png": "[encoded data removed]",
            "text/plain": [
              "<Figure size 432x288 with 1 Axes>"
            ]
          },
          "metadata": {
            "tags": [],
            "needs_background": "light"
          }
        }
      ]
    },
    {
      "cell_type": "code",
      "metadata": {
        "id": "wxf4r-7pu7XS",
        "colab_type": "code",
        "colab": {
          "base_uri": "https://localhost:8080/",
          "height": 34
        },
        "outputId": "901f3717-eb40-435c-fa71-cb81bf20c48b"
      },
      "source": [
        "out = model(img.view(-1).unsqueeze(0))\n",
        "out"
      ],
      "execution_count": 18,
      "outputs": [
        {
          "output_type": "execute_result",
          "data": {
            "text/plain": [
              "tensor([[0.5272, 0.4728]], grad_fn=<SoftmaxBackward>)"
            ]
          },
          "metadata": {
            "tags": []
          },
          "execution_count": 18
        }
      ]
    },
    {
      "cell_type": "code",
      "metadata": {
        "id": "KxE1ChJzvD1z",
        "colab_type": "code",
        "colab": {}
      },
      "source": [
        "_, index = torch.max(out, dim=1)"
      ],
      "execution_count": 0,
      "outputs": []
    },
    {
      "cell_type": "code",
      "metadata": {
        "id": "_vqJq9SrvM0T",
        "colab_type": "code",
        "colab": {
          "base_uri": "https://localhost:8080/",
          "height": 34
        },
        "outputId": "792a3047-f0b8-4224-f84f-82f382d09424"
      },
      "source": [
        "print('->', class_names[label], ' model:', class_names[index])"
      ],
      "execution_count": 25,
      "outputs": [
        {
          "output_type": "stream",
          "text": [
            "-> car  model: car\n"
          ],
          "name": "stdout"
        }
      ]
    },
    {
      "cell_type": "markdown",
      "metadata": {
        "id": "0F-3NxcwxqTV",
        "colab_type": "text"
      },
      "source": [
        "# Implementing a completely connected classificator\n",
        "---"
      ]
    },
    {
      "cell_type": "code",
      "metadata": {
        "id": "iMNUu5XDxz93",
        "colab_type": "code",
        "colab": {}
      },
      "source": [
        "model = nn.Sequential (\n",
        "    nn.Linear(3 * 32 * 32, 512),\n",
        "    nn.Tanh(),\n",
        "    nn.Linear(512,2),\n",
        "    nn.LogSoftmax(dim=1)\n",
        ")\n",
        "loss_function = nn.NLLLoss()"
      ],
      "execution_count": 0,
      "outputs": []
    },
    {
      "cell_type": "code",
      "metadata": {
        "id": "4HVmcpOTyDx7",
        "colab_type": "code",
        "colab": {
          "base_uri": "https://localhost:8080/",
          "height": 320
        },
        "outputId": "66affda0-fdc6-4791-e96b-2f9b511164b1"
      },
      "source": [
        "img, label = data_set[20]\n",
        "plt.imshow(img.permute(1,2,0))\n",
        "class_names[label]"
      ],
      "execution_count": 38,
      "outputs": [
        {
          "output_type": "stream",
          "text": [
            "Clipping input data to the valid range for imshow with RGB data ([0..1] for floats or [0..255] for integers).\n"
          ],
          "name": "stderr"
        },
        {
          "output_type": "execute_result",
          "data": {
            "text/plain": [
              "'car'"
            ]
          },
          "metadata": {
            "tags": []
          },
          "execution_count": 38
        },
        {
          "output_type": "display_data",
          "data": {
            "image/png": "[encoded data removed]",
            "text/plain": [
              "<Figure size 432x288 with 1 Axes>"
            ]
          },
          "metadata": {
            "tags": [],
            "needs_background": "light"
          }
        }
      ]
    },
    {
      "cell_type": "code",
      "metadata": {
        "id": "vITVCNqVynx-",
        "colab_type": "code",
        "colab": {
          "base_uri": "https://localhost:8080/",
          "height": 51
        },
        "outputId": "b77adf33-a2d7-4663-888f-2cff96ca2fc7"
      },
      "source": [
        "out = model(img.view(-1).unsqueeze(0))\n",
        "print(out)\n",
        "\n",
        "print('->', class_names[label], ' model:', class_names[index])"
      ],
      "execution_count": 39,
      "outputs": [
        {
          "output_type": "stream",
          "text": [
            "tensor([[-0.6585, -0.7290]], grad_fn=<LogSoftmaxBackward>)\n",
            "-> car  model: car\n"
          ],
          "name": "stdout"
        }
      ]
    },
    {
      "cell_type": "code",
      "metadata": {
        "id": "m6RaOMPZy6eg",
        "colab_type": "code",
        "colab": {
          "base_uri": "https://localhost:8080/",
          "height": 102
        },
        "outputId": "ddeab0db-a214-43d8-b054-d6fc582e3e16"
      },
      "source": [
        "model = nn.Sequential (\n",
        "    nn.Linear(3 * 32 * 32, 512),\n",
        "    nn.Tanh(),\n",
        "    nn.Linear(512,2),\n",
        "    nn.LogSoftmax(dim=1)\n",
        ")\n",
        "loss_function = nn.NLLLoss()\n",
        "\n",
        "optimizer = optim.SGD(model.parameters(), lr=0.01)\n",
        "\n",
        "n_epochs = 5\n",
        "\n",
        "for epoch in range(n_epochs):\n",
        "  for img, label in data_set:\n",
        "    out = model(img.view(-1).unsqueeze(0))\n",
        "    loss = loss_function(out, torch.tensor([label]))\n",
        "\n",
        "    optimizer.zero_grad()\n",
        "    loss.backward()\n",
        "    optimizer.step()\n",
        "  print(\"Epoch: %d, Loss: %f\" % (epoch, float(loss)))"
      ],
      "execution_count": 47,
      "outputs": [
        {
          "output_type": "stream",
          "text": [
            "Epoch: 0, Loss: 0.000475\n",
            "Epoch: 1, Loss: 0.001821\n",
            "Epoch: 2, Loss: 0.023890\n",
            "Epoch: 3, Loss: 0.001512\n",
            "Epoch: 4, Loss: 1.723981\n"
          ],
          "name": "stdout"
        }
      ]
    },
    {
      "cell_type": "code",
      "metadata": {
        "id": "tGAdB8Lk49RI",
        "colab_type": "code",
        "colab": {
          "base_uri": "https://localhost:8080/",
          "height": 1000
        },
        "outputId": "55d5a610-b0d1-4736-aa39-f00fcad55289"
      },
      "source": [
        "train_loader = torch.utils.data.DataLoader(data_set, batch_size=64, shuffle=True)\n",
        "\n",
        "model = nn.Sequential (\n",
        "    nn.Linear(3 * 32 * 32, 512),\n",
        "    nn.Tanh(),\n",
        "    nn.Linear(512,2),\n",
        "    nn.LogSoftmax(dim=1)\n",
        ")\n",
        "loss_function = nn.NLLLoss()\n",
        "\n",
        "optimizer = optim.SGD(model.parameters(), lr=0.01)\n",
        "\n",
        "n_epochs = 100\n",
        "\n",
        "for epoch in range(n_epochs):\n",
        "    for imgs, labels in train_loader:\n",
        "        outputs = model(imgs.view(imgs.shape[0], -1))\n",
        "        loss = loss_function(outputs, labels)\n",
        "\n",
        "        optimizer.zero_grad()\n",
        "        loss.backward()\n",
        "        optimizer.step()\n",
        "    print(\"Epoch: %d, Loss: %f\" % (epoch, float(loss)))"
      ],
      "execution_count": 51,
      "outputs": [
        {
          "output_type": "stream",
          "text": [
            "Epoch: 0, Loss: 0.478535\n",
            "Epoch: 1, Loss: 0.384608\n",
            "Epoch: 2, Loss: 0.380842\n",
            "Epoch: 3, Loss: 0.506907\n",
            "Epoch: 4, Loss: 0.331107\n",
            "Epoch: 5, Loss: 0.283833\n",
            "Epoch: 6, Loss: 0.226647\n",
            "Epoch: 7, Loss: 0.224099\n",
            "Epoch: 8, Loss: 0.319928\n",
            "Epoch: 9, Loss: 0.349201\n",
            "Epoch: 10, Loss: 0.090427\n",
            "Epoch: 11, Loss: 0.162813\n",
            "Epoch: 12, Loss: 0.233644\n",
            "Epoch: 13, Loss: 0.199614\n",
            "Epoch: 14, Loss: 0.151102\n",
            "Epoch: 15, Loss: 0.297631\n",
            "Epoch: 16, Loss: 0.171738\n",
            "Epoch: 17, Loss: 0.211461\n",
            "Epoch: 18, Loss: 0.699916\n",
            "Epoch: 19, Loss: 0.084807\n",
            "Epoch: 20, Loss: 0.137438\n",
            "Epoch: 21, Loss: 0.161690\n",
            "Epoch: 22, Loss: 0.073417\n",
            "Epoch: 23, Loss: 0.234794\n",
            "Epoch: 24, Loss: 0.078458\n",
            "Epoch: 25, Loss: 0.157277\n",
            "Epoch: 26, Loss: 0.027997\n",
            "Epoch: 27, Loss: 0.033322\n",
            "Epoch: 28, Loss: 0.068961\n",
            "Epoch: 29, Loss: 0.199441\n",
            "Epoch: 30, Loss: 0.035205\n",
            "Epoch: 31, Loss: 0.088633\n",
            "Epoch: 32, Loss: 0.049070\n",
            "Epoch: 33, Loss: 0.039683\n",
            "Epoch: 34, Loss: 0.163078\n",
            "Epoch: 35, Loss: 0.055557\n",
            "Epoch: 36, Loss: 0.093309\n",
            "Epoch: 37, Loss: 0.113961\n",
            "Epoch: 38, Loss: 0.079556\n",
            "Epoch: 39, Loss: 0.053890\n",
            "Epoch: 40, Loss: 0.028645\n",
            "Epoch: 41, Loss: 0.036691\n",
            "Epoch: 42, Loss: 0.059731\n",
            "Epoch: 43, Loss: 0.026790\n",
            "Epoch: 44, Loss: 0.038960\n",
            "Epoch: 45, Loss: 0.088036\n",
            "Epoch: 46, Loss: 0.017534\n",
            "Epoch: 47, Loss: 0.012386\n",
            "Epoch: 48, Loss: 0.024943\n",
            "Epoch: 49, Loss: 0.043559\n",
            "Epoch: 50, Loss: 0.012550\n",
            "Epoch: 51, Loss: 0.024288\n",
            "Epoch: 52, Loss: 0.041949\n",
            "Epoch: 53, Loss: 0.020098\n",
            "Epoch: 54, Loss: 0.027563\n",
            "Epoch: 55, Loss: 0.011932\n",
            "Epoch: 56, Loss: 0.019648\n",
            "Epoch: 57, Loss: 0.020424\n",
            "Epoch: 58, Loss: 0.014564\n",
            "Epoch: 59, Loss: 0.011512\n",
            "Epoch: 60, Loss: 0.011691\n",
            "Epoch: 61, Loss: 0.006558\n",
            "Epoch: 62, Loss: 0.006267\n",
            "Epoch: 63, Loss: 0.009549\n",
            "Epoch: 64, Loss: 0.010473\n",
            "Epoch: 65, Loss: 0.011196\n",
            "Epoch: 66, Loss: 0.009226\n",
            "Epoch: 67, Loss: 0.005006\n",
            "Epoch: 68, Loss: 0.011715\n",
            "Epoch: 69, Loss: 0.010910\n",
            "Epoch: 70, Loss: 0.010414\n",
            "Epoch: 71, Loss: 0.008064\n",
            "Epoch: 72, Loss: 0.018744\n",
            "Epoch: 73, Loss: 0.013828\n",
            "Epoch: 74, Loss: 0.004888\n",
            "Epoch: 75, Loss: 0.011965\n",
            "Epoch: 76, Loss: 0.005114\n",
            "Epoch: 77, Loss: 0.012806\n",
            "Epoch: 78, Loss: 0.008975\n",
            "Epoch: 79, Loss: 0.008415\n",
            "Epoch: 80, Loss: 0.006921\n",
            "Epoch: 81, Loss: 0.004226\n",
            "Epoch: 82, Loss: 0.006409\n",
            "Epoch: 83, Loss: 0.003794\n",
            "Epoch: 84, Loss: 0.013861\n",
            "Epoch: 85, Loss: 0.004031\n",
            "Epoch: 86, Loss: 0.007863\n",
            "Epoch: 87, Loss: 0.006178\n",
            "Epoch: 88, Loss: 0.006535\n",
            "Epoch: 89, Loss: 0.009239\n",
            "Epoch: 90, Loss: 0.006077\n",
            "Epoch: 91, Loss: 0.004626\n",
            "Epoch: 92, Loss: 0.006920\n",
            "Epoch: 93, Loss: 0.009071\n",
            "Epoch: 94, Loss: 0.006124\n",
            "Epoch: 95, Loss: 0.005974\n",
            "Epoch: 96, Loss: 0.006110\n",
            "Epoch: 97, Loss: 0.006094\n",
            "Epoch: 98, Loss: 0.005088\n",
            "Epoch: 99, Loss: 0.016800\n"
          ],
          "name": "stdout"
        }
      ]
    },
    {
      "cell_type": "code",
      "metadata": {
        "id": "IiUPqKZP0MbS",
        "colab_type": "code",
        "colab": {
          "base_uri": "https://localhost:8080/",
          "height": 337
        },
        "outputId": "90b7e1bd-91a3-49c6-aceb-a4bb03cee808"
      },
      "source": [
        "val_loader = torch.utils.data.DataLoader(validation_set, batch_size=64, shuffle=False)\n",
        "\n",
        "correct = 0\n",
        "total = 0\n",
        "\n",
        "with torch.no_grad():\n",
        "    for imgs, labels in val_loader:\n",
        "        outputs = model(imgs.view(imgs.shape[0], -1))\n",
        "        _, predicted = torch.max(outputs, dim=1)\n",
        "        total += labels.shape[0]\n",
        "\n",
        "        correct += int((predicted == labels).sum())\n",
        "      \n",
        "print(\"Accuracy: %f\"% (correct / total))\n",
        "img, label = validation_set[20]\n",
        "out = model(img.view(-1).unsqueeze(0))\n",
        "_, index = torch.max(out, dim=1)\n",
        "\n",
        "print('->: ',class_names[label],' model:',class_names[index])\n",
        "plt.imshow(img.permute(1, 2, 0))\n",
        "plt.show()"
      ],
      "execution_count": 53,
      "outputs": [
        {
          "output_type": "stream",
          "text": [
            "Clipping input data to the valid range for imshow with RGB data ([0..1] for floats or [0..255] for integers).\n"
          ],
          "name": "stderr"
        },
        {
          "output_type": "stream",
          "text": [
            "Accuracy: 0.863000\n",
            "->:  car  model: car\n"
          ],
          "name": "stdout"
        },
        {
          "output_type": "display_data",
          "data": {
            "image/png": "[encoded data removed]",
            "text/plain": [
              "<Figure size 432x288 with 1 Axes>"
            ]
          },
          "metadata": {
            "tags": [],
            "needs_background": "light"
          }
        }
      ]
    }
  ]
}