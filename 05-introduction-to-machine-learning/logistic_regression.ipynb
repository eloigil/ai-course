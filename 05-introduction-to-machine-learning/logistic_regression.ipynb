{
  "nbformat": 4,
  "nbformat_minor": 0,
  "metadata": {
    "colab": {
      "name": "logistic-regression.ipynb",
      "provenance": [],
      "authorship_tag": "ABX9TyPROcVerfc41fCo5iTt/BL8",
      "include_colab_link": true
    },
    "kernelspec": {
      "name": "python3",
      "display_name": "Python 3"
    }
  },
  "cells": [
    {
      "cell_type": "markdown",
      "metadata": {
        "id": "view-in-github",
        "colab_type": "text"
      },
      "source": [
        "<a href=\"https://colab.research.google.com/github/eloigil/ai-course/blob/master/05-introduction-to-machine-learning/logistic_regression.ipynb\" target=\"_parent\"><img src=\"https://colab.research.google.com/assets/colab-badge.svg\" alt=\"Open In Colab\"/></a>"
      ]
    },
    {
      "cell_type": "code",
      "metadata": {
        "id": "-BUedIFMwaKd",
        "colab_type": "code",
        "colab": {}
      },
      "source": [
        "import torch\n",
        "import numpy as np\n",
        "import torch.nn as nn\n",
        "import torch.optim as optim\n",
        "\n",
        "import matplotlib.pyplot as plt"
      ],
      "execution_count": 0,
      "outputs": []
    },
    {
      "cell_type": "markdown",
      "metadata": {
        "id": "SMyi79JVwYXL",
        "colab_type": "text"
      },
      "source": [
        "# Logistic regression\n",
        "---"
      ]
    },
    {
      "cell_type": "code",
      "metadata": {
        "id": "oUVSI06FVa-K",
        "colab_type": "code",
        "colab": {
          "base_uri": "https://localhost:8080/",
          "height": 1000
        },
        "outputId": "83d7fd8e-058a-4b9f-b292-bda5344dcf74"
      },
      "source": [
        "n = 100\n",
        "h = n//2\n",
        "dimen = 2\n",
        "\n",
        "data = np.random.randn(n, dimen) * 3\n",
        "data"
      ],
      "execution_count": 5,
      "outputs": [
        {
          "output_type": "execute_result",
          "data": {
            "text/plain": [
              "array([[ 3.42151732e-01, -1.56640020e+00],\n",
              "       [ 2.23999438e+00,  3.51143868e+00],\n",
              "       [-1.03614266e+00, -2.66897607e+00],\n",
              "       [ 5.72218289e+00,  7.94927291e-01],\n",
              "       [ 3.83310669e+00,  8.72038408e-01],\n",
              "       [ 4.73045766e-01, -5.27672696e+00],\n",
              "       [-2.92390235e+00,  1.14037679e+00],\n",
              "       [-5.26741698e-01,  3.76377381e+00],\n",
              "       [ 5.79408758e+00,  4.24037890e+00],\n",
              "       [-7.00561366e+00,  1.69683170e+00],\n",
              "       [ 1.47907585e+00,  1.41381101e+00],\n",
              "       [-4.08276921e-01, -4.28257140e+00],\n",
              "       [-1.04095231e+00, -8.20062488e+00],\n",
              "       [-2.56945505e+00, -6.30290949e-01],\n",
              "       [-1.71034813e+00,  1.25607956e-01],\n",
              "       [ 6.34583499e+00, -3.31058610e-01],\n",
              "       [ 7.18693380e-01, -4.56870161e+00],\n",
              "       [-6.49143918e+00, -1.74162574e+00],\n",
              "       [ 7.59213941e-01, -1.98995968e+00],\n",
              "       [-5.02532959e+00,  4.30969706e+00],\n",
              "       [-4.00076193e-01,  2.15125807e+00],\n",
              "       [ 3.36333400e+00,  1.08228763e+00],\n",
              "       [-1.03194326e+00,  2.06823123e+00],\n",
              "       [-2.15384348e+00,  8.19556071e+00],\n",
              "       [-3.95669053e+00,  7.57327560e-01],\n",
              "       [-5.16275939e+00, -9.22025328e-01],\n",
              "       [ 2.63447134e+00, -8.70531050e-01],\n",
              "       [-1.49078594e+00,  1.31940845e+00],\n",
              "       [ 9.07980260e-01,  1.34733892e+00],\n",
              "       [-1.27551157e+00, -4.89046299e-01],\n",
              "       [ 9.32984704e-01,  2.17536901e+00],\n",
              "       [-1.49206481e+00,  2.77448572e+00],\n",
              "       [ 5.29044757e+00,  1.21424604e+00],\n",
              "       [ 5.11539806e+00, -2.54477003e-01],\n",
              "       [-5.37264566e+00, -4.96589175e-01],\n",
              "       [ 1.93376257e-01,  4.79970185e+00],\n",
              "       [ 2.78358424e+00, -1.13721997e+00],\n",
              "       [ 2.26162120e+00,  2.06433202e+00],\n",
              "       [ 7.08696098e-01,  1.90152796e+00],\n",
              "       [ 2.78313477e+00, -1.53048631e+00],\n",
              "       [ 3.45093692e+00,  3.51245694e-01],\n",
              "       [-3.07948378e+00,  4.91075189e+00],\n",
              "       [-6.53881157e+00, -1.71740324e+00],\n",
              "       [-1.20603635e+00,  7.31374795e-01],\n",
              "       [-7.53907605e-01,  7.73766608e-01],\n",
              "       [ 1.72533354e+00, -2.66304367e+00],\n",
              "       [ 3.16662273e+00,  1.85076616e+00],\n",
              "       [-4.68583616e+00,  1.08374311e+00],\n",
              "       [ 1.87968264e+00, -5.48698518e-01],\n",
              "       [-5.01946853e+00,  3.00940643e+00],\n",
              "       [ 3.75564639e+00, -1.86727553e+00],\n",
              "       [-3.50003082e+00,  3.88973138e-01],\n",
              "       [ 5.24668136e+00, -3.48702499e+00],\n",
              "       [ 1.56234003e+00,  7.97182488e-01],\n",
              "       [-1.21133304e+00,  3.94135349e+00],\n",
              "       [ 2.43545234e+00,  2.52706420e+00],\n",
              "       [ 3.89242801e+00,  3.93447045e+00],\n",
              "       [-9.23850534e+00, -4.99263108e+00],\n",
              "       [ 1.81033833e+00,  4.96051561e+00],\n",
              "       [ 3.51508486e+00,  3.05330031e-01],\n",
              "       [-6.56492538e-01, -1.75548513e+00],\n",
              "       [-1.96877095e+00, -7.71097907e+00],\n",
              "       [-2.03983801e-01, -1.30362547e+00],\n",
              "       [ 1.61930315e-01,  7.83823019e-02],\n",
              "       [ 1.59119760e+00, -8.69185763e-01],\n",
              "       [ 3.09347028e+00, -3.60756172e+00],\n",
              "       [ 4.71767463e+00, -3.26674070e+00],\n",
              "       [ 3.80044997e+00, -3.47311126e-01],\n",
              "       [ 1.01484875e+00,  4.13306236e+00],\n",
              "       [ 2.75982090e+00,  8.88259595e+00],\n",
              "       [-4.93939438e-01, -1.27056128e+00],\n",
              "       [ 9.23699154e-01,  4.76823696e-01],\n",
              "       [ 4.78404884e+00, -1.27492013e+00],\n",
              "       [-8.68503956e+00,  1.40671583e+00],\n",
              "       [-1.53196972e-01,  6.28090349e+00],\n",
              "       [ 1.37142956e+00,  1.76352338e+00],\n",
              "       [ 4.49956163e+00, -2.18551644e+00],\n",
              "       [ 1.92633357e+00,  8.40823755e-01],\n",
              "       [ 1.18659042e+00, -6.05020796e-01],\n",
              "       [-6.16888648e+00,  6.24639735e-02],\n",
              "       [ 6.61846689e+00, -7.61131746e-01],\n",
              "       [ 2.28836544e+00,  2.97351136e-01],\n",
              "       [ 2.75507080e+00, -5.71954038e+00],\n",
              "       [-8.70007142e-01,  5.42557174e-01],\n",
              "       [ 2.09277598e+00, -6.63616743e+00],\n",
              "       [-3.17667510e+00,  3.29677249e+00],\n",
              "       [ 6.03720841e-01,  8.88065910e-01],\n",
              "       [-2.76491952e+00, -1.87790894e+00],\n",
              "       [ 4.32114790e+00, -3.79546182e+00],\n",
              "       [ 5.77107874e+00,  7.00237461e-01],\n",
              "       [ 1.97336351e-03, -5.48940626e-01],\n",
              "       [ 4.54638911e+00,  1.32781456e-01],\n",
              "       [-1.67776460e+00, -5.31487206e-01],\n",
              "       [-5.12550632e+00,  1.03446227e+00],\n",
              "       [-6.89082920e-01,  5.06506500e+00],\n",
              "       [-1.66487847e+00,  1.37021371e-01],\n",
              "       [-2.63013474e+00, -2.92205408e+00],\n",
              "       [ 4.50543215e+00, -3.26397808e+00],\n",
              "       [ 4.71204413e-01,  2.30264765e+00],\n",
              "       [-2.39338765e+00, -1.30284439e-01]])"
            ]
          },
          "metadata": {
            "tags": []
          },
          "execution_count": 5
        }
      ]
    },
    {
      "cell_type": "code",
      "metadata": {
        "id": "7sFCOgUUwa6j",
        "colab_type": "code",
        "colab": {
          "base_uri": "https://localhost:8080/",
          "height": 282
        },
        "outputId": "17d6a7cf-81e0-4451-b71f-234252e825a8"
      },
      "source": [
        "plt.scatter(data[:,0], data[:,1])"
      ],
      "execution_count": 8,
      "outputs": [
        {
          "output_type": "execute_result",
          "data": {
            "text/plain": [
              "<matplotlib.collections.PathCollection at 0x7f1ec56b3518>"
            ]
          },
          "metadata": {
            "tags": []
          },
          "execution_count": 8
        },
        {
          "output_type": "display_data",
          "data": {
            "image/png": "[encoded data removed]",
            "text/plain": [
              "<Figure size 432x288 with 1 Axes>"
            ]
          },
          "metadata": {
            "tags": []
          }
        }
      ]
    },
    {
      "cell_type": "code",
      "metadata": {
        "id": "AR8cWTctwS9n",
        "colab_type": "code",
        "colab": {}
      },
      "source": [
        "data[:h, :]= data[:h, :] - 3*np.ones((h, dimen))\n",
        "data[h:, :]= data[h:, :] - 3*np.ones((h, dimen))"
      ],
      "execution_count": 0,
      "outputs": []
    },
    {
      "cell_type": "code",
      "metadata": {
        "id": "0N5CVARV00QR",
        "colab_type": "code",
        "colab": {
          "base_uri": "https://localhost:8080/",
          "height": 282
        },
        "outputId": "ce004966-5512-499f-e81e-4e99ff8967a3"
      },
      "source": [
        "colors = ['blue', 'red']\n",
        "\n",
        "color = np.array([colors[0]]*h + [colors[1]]*h).reshape(n)\n",
        "plt.scatter(data[:,0], data[:,1], c=color)"
      ],
      "execution_count": 16,
      "outputs": [
        {
          "output_type": "execute_result",
          "data": {
            "text/plain": [
              "<matplotlib.collections.PathCollection at 0x7f1ec25137b8>"
            ]
          },
          "metadata": {
            "tags": []
          },
          "execution_count": 16
        },
        {
          "output_type": "display_data",
          "data": {
            "image/png": "[encoded data removed]",
            "text/plain": [
              "<Figure size 432x288 with 1 Axes>"
            ]
          },
          "metadata": {
            "tags": []
          }
        }
      ]
    },
    {
      "cell_type": "code",
      "metadata": {
        "id": "3pk2eibB2DKX",
        "colab_type": "code",
        "colab": {
          "base_uri": "https://localhost:8080/",
          "height": 34
        },
        "outputId": "4d390435-8908-4c25-cdde-3033632dea0a"
      },
      "source": [
        "target = np.array([0]*h + [1]*h).reshape(n, 1)\n",
        "\n",
        "x = torch.from_numpy(data).float().requires_grad_(True)\n",
        "\n",
        "y = torch.from_numpy(target).float()\n",
        "\n",
        "x.shape, y.shape\n"
      ],
      "execution_count": 17,
      "outputs": [
        {
          "output_type": "execute_result",
          "data": {
            "text/plain": [
              "(torch.Size([100, 2]), torch.Size([100, 1]))"
            ]
          },
          "metadata": {
            "tags": []
          },
          "execution_count": 17
        }
      ]
    },
    {
      "cell_type": "code",
      "metadata": {
        "id": "Q9GTZuvC2sfL",
        "colab_type": "code",
        "colab": {
          "base_uri": "https://localhost:8080/",
          "height": 282
        },
        "outputId": "07db739b-e07e-45cf-d90d-ce58fe89e272"
      },
      "source": [
        "model = nn.Sequential(\n",
        "          nn.Linear(2,1),\n",
        "          nn.Sigmoid()\n",
        "        )\n",
        "loss_function = nn.BCELoss()\n",
        "\n",
        "optimizer = optim.SGD(model.parameters(), lr=0.01)\n",
        "\n",
        "losses = []\n",
        "iterations = 1000\n",
        "\n",
        "for i in range(iterations):\n",
        "  result = model(x)\n",
        "\n",
        "  loss = loss_function(result, y)\n",
        "  losses.append(loss.data)\n",
        "\n",
        "  optimizer.zero_grad()\n",
        "  loss.backward()\n",
        "\n",
        "  optimizer.step()\n",
        "\n",
        "plt.plot(range(iterations), losses)"
      ],
      "execution_count": 22,
      "outputs": [
        {
          "output_type": "execute_result",
          "data": {
            "text/plain": [
              "[<matplotlib.lines.Line2D at 0x7f1ec0fd8f60>]"
            ]
          },
          "metadata": {
            "tags": []
          },
          "execution_count": 22
        },
        {
          "output_type": "display_data",
          "data": {
            "image/png": "[encoded data removed]",
            "text/plain": [
              "<Figure size 432x288 with 1 Axes>"
            ]
          },
          "metadata": {
            "tags": []
          }
        }
      ]
    },
    {
      "cell_type": "code",
      "metadata": {
        "id": "omu_0SCV4b4d",
        "colab_type": "code",
        "colab": {
          "base_uri": "https://localhost:8080/",
          "height": 51
        },
        "outputId": "b8a83fdf-fc35-4dfd-f033-6a607d64519e"
      },
      "source": [
        "blue = torch.Tensor([[-5, -6]])\n",
        "prediction = model(blue).data[0][0] > 0.5\n",
        "print(colors[prediction])\n",
        "\n",
        "red = torch.Tensor([[8, 6]])\n",
        "prediction = model(red).data[0][0] > 0.5\n",
        "print(colors[prediction])"
      ],
      "execution_count": 26,
      "outputs": [
        {
          "output_type": "stream",
          "text": [
            "blue\n",
            "red\n"
          ],
          "name": "stdout"
        }
      ]
    },
    {
      "cell_type": "code",
      "metadata": {
        "id": "9IqDYNkM6fvc",
        "colab_type": "code",
        "colab": {
          "base_uri": "https://localhost:8080/",
          "height": 282
        },
        "outputId": "b8c2154b-db85-4d59-bae8-76cfaf9be097"
      },
      "source": [
        "w = list(model.parameters())\n",
        "w0 = w[0].data.numpy()\n",
        "w1 = w[1].data.numpy()\n",
        "\n",
        "plt.scatter(data[:,0], data[:,1], c=color, s=75, alpha=0.6)\n",
        "\n",
        "x_axis = np.linspace(-10,10,n)\n",
        "y_axis = -(w1[0] + x_axis*w0[0][0]) / w0[0][1]\n",
        "plt.plot(x_axis, y_axis, 'g--')"
      ],
      "execution_count": 28,
      "outputs": [
        {
          "output_type": "execute_result",
          "data": {
            "text/plain": [
              "[<matplotlib.lines.Line2D at 0x7f1ec0ed1518>]"
            ]
          },
          "metadata": {
            "tags": []
          },
          "execution_count": 28
        },
        {
          "output_type": "display_data",
          "data": {
            "image/png": "[encoded data removed]",
            "text/plain": [
              "<Figure size 432x288 with 1 Axes>"
            ]
          },
          "metadata": {
            "tags": []
          }
        }
      ]
    }
  ]
}