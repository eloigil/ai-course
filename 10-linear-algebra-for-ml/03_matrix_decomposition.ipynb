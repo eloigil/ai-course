{
  "nbformat": 4,
  "nbformat_minor": 0,
  "metadata": {
    "colab": {
      "name": "03_matrix_decomposition.ipynb",
      "provenance": [],
      "collapsed_sections": [],
      "authorship_tag": "ABX9TyNn2AffcQnD/9XfCEqplQv8",
      "include_colab_link": true
    },
    "kernelspec": {
      "name": "python3",
      "display_name": "Python 3"
    }
  },
  "cells": [
    {
      "cell_type": "markdown",
      "metadata": {
        "id": "view-in-github",
        "colab_type": "text"
      },
      "source": [
        "<a href=\"https://colab.research.google.com/github/eloigil/ai-course/blob/master/10-linear-algebra-for-ml/03_matrix_decomposition.ipynb\" target=\"_parent\"><img src=\"https://colab.research.google.com/assets/colab-badge.svg\" alt=\"Open In Colab\"/></a>"
      ]
    },
    {
      "cell_type": "code",
      "metadata": {
        "id": "bG1Sy0jDtt0y",
        "colab_type": "code",
        "colab": {}
      },
      "source": [
        "import numpy as np"
      ],
      "execution_count": 0,
      "outputs": []
    },
    {
      "cell_type": "markdown",
      "metadata": {
        "id": "O8NCFxXrvdiJ",
        "colab_type": "text"
      },
      "source": [
        "### Square matrix decomposition\n",
        "\n",
        "A=[autovects][autovals_diag][autovects_inv]"
      ]
    },
    {
      "cell_type": "code",
      "metadata": {
        "id": "s4csWABFuxh5",
        "colab_type": "code",
        "outputId": "e6324947-23e9-414f-d0b6-3f49a326c1d6",
        "colab": {
          "base_uri": "https://localhost:8080/",
          "height": 51
        }
      },
      "source": [
        "A = np.array([[3,2],[4,1]])\n",
        "print(A)"
      ],
      "execution_count": 0,
      "outputs": [
        {
          "output_type": "stream",
          "text": [
            "[[3 2]\n",
            " [4 1]]\n"
          ],
          "name": "stdout"
        }
      ]
    },
    {
      "cell_type": "code",
      "metadata": {
        "id": "vmnGL6-ju3kj",
        "colab_type": "code",
        "colab": {}
      },
      "source": [
        "autovals, autovects = np.linalg.eig(A)"
      ],
      "execution_count": 0,
      "outputs": []
    },
    {
      "cell_type": "code",
      "metadata": {
        "id": "UoFv0TyGu9mC",
        "colab_type": "code",
        "outputId": "fb9ac90a-a9bb-4e91-f445-e18936e88a76",
        "colab": {
          "base_uri": "https://localhost:8080/",
          "height": 68
        }
      },
      "source": [
        "print(autovals)\n",
        "print(autovects)"
      ],
      "execution_count": 0,
      "outputs": [
        {
          "output_type": "stream",
          "text": [
            "[ 5. -1.]\n",
            "[[ 0.70710678 -0.4472136 ]\n",
            " [ 0.70710678  0.89442719]]\n"
          ],
          "name": "stdout"
        }
      ]
    },
    {
      "cell_type": "code",
      "metadata": {
        "id": "50jno5bfvE1d",
        "colab_type": "code",
        "outputId": "29fbc012-871a-476a-fffa-9ece6f5d3cf1",
        "colab": {
          "base_uri": "https://localhost:8080/",
          "height": 51
        }
      },
      "source": [
        "A_calc = autovects.dot(np.diag(autovals)).dot(np.linalg.inv(autovects))\n",
        "print(A_calc)"
      ],
      "execution_count": 0,
      "outputs": [
        {
          "output_type": "stream",
          "text": [
            "[[3. 2.]\n",
            " [4. 1.]]\n"
          ],
          "name": "stdout"
        }
      ]
    },
    {
      "cell_type": "markdown",
      "metadata": {
        "id": "y2s1KkvDvvsB",
        "colab_type": "text"
      },
      "source": [
        "---"
      ]
    },
    {
      "cell_type": "markdown",
      "metadata": {
        "id": "SSScgIaIxocU",
        "colab_type": "text"
      },
      "source": [
        "### Square and Simetric matrix decomposition\n",
        "if A = A.T\n",
        "\n",
        "A = [autovects][autovals][autovects.T]"
      ]
    },
    {
      "cell_type": "code",
      "metadata": {
        "id": "9Pk5qQZ0v3jF",
        "colab_type": "code",
        "outputId": "08324206-e854-408c-b252-a1e06e4b00e3",
        "colab": {
          "base_uri": "https://localhost:8080/",
          "height": 51
        }
      },
      "source": [
        "A = np.array([[3,2],[2,3]])\n",
        "print(A)"
      ],
      "execution_count": 0,
      "outputs": [
        {
          "output_type": "stream",
          "text": [
            "[[3 2]\n",
            " [2 3]]\n"
          ],
          "name": "stdout"
        }
      ]
    },
    {
      "cell_type": "code",
      "metadata": {
        "id": "pI4n3Nv6woq7",
        "colab_type": "code",
        "outputId": "c45b1b71-1e47-42b5-b77b-ef26248479c2",
        "colab": {
          "base_uri": "https://localhost:8080/",
          "height": 51
        }
      },
      "source": [
        "print(A == A.T)"
      ],
      "execution_count": 0,
      "outputs": [
        {
          "output_type": "stream",
          "text": [
            "[[ True  True]\n",
            " [ True  True]]\n"
          ],
          "name": "stdout"
        }
      ]
    },
    {
      "cell_type": "code",
      "metadata": {
        "id": "xFh6wmDvxaaK",
        "colab_type": "code",
        "outputId": "3a55b9c6-ff0c-4ca5-c9e5-ebaa4a474084",
        "colab": {
          "base_uri": "https://localhost:8080/",
          "height": 68
        }
      },
      "source": [
        "autovals, autovects = np.linalg.eig(A)\n",
        "print(autovals)\n",
        "print(autovects)"
      ],
      "execution_count": 0,
      "outputs": [
        {
          "output_type": "stream",
          "text": [
            "[5. 1.]\n",
            "[[ 0.70710678 -0.70710678]\n",
            " [ 0.70710678  0.70710678]]\n"
          ],
          "name": "stdout"
        }
      ]
    },
    {
      "cell_type": "code",
      "metadata": {
        "id": "Gz_9tDvix_Bq",
        "colab_type": "code",
        "outputId": "fc96e830-dedd-41bf-9de3-c9e69daad4cf",
        "colab": {
          "base_uri": "https://localhost:8080/",
          "height": 51
        }
      },
      "source": [
        "A_calc = autovects.dot(np.diag(autovals)).dot(autovects.T)\n",
        "print(A_calc)"
      ],
      "execution_count": 0,
      "outputs": [
        {
          "output_type": "stream",
          "text": [
            "[[3. 2.]\n",
            " [2. 3.]]\n"
          ],
          "name": "stdout"
        }
      ]
    },
    {
      "cell_type": "markdown",
      "metadata": {
        "id": "YGX3nNEGzIJl",
        "colab_type": "text"
      },
      "source": [
        "---\n",
        "---\n"
      ]
    },
    {
      "cell_type": "markdown",
      "metadata": {
        "id": "fLhXX1Q02GKA",
        "colab_type": "text"
      },
      "source": [
        "### Non-Square matrix decomposition"
      ]
    },
    {
      "cell_type": "code",
      "metadata": {
        "id": "r1x1P_frzP3c",
        "colab_type": "code",
        "outputId": "1375e53f-0312-4bde-90cc-4c2db2cef0d9",
        "colab": {
          "base_uri": "https://localhost:8080/",
          "height": 51
        }
      },
      "source": [
        "A = np.array([[1,2,3],[3,4,5]])\n",
        "print(A)"
      ],
      "execution_count": 0,
      "outputs": [
        {
          "output_type": "stream",
          "text": [
            "[[1 2 3]\n",
            " [3 4 5]]\n"
          ],
          "name": "stdout"
        }
      ]
    },
    {
      "cell_type": "code",
      "metadata": {
        "id": "B5k77cUAz-KT",
        "colab_type": "code",
        "colab": {}
      },
      "source": [
        "# svd singular values\n",
        "U, D, V = np.linalg.svd(A)"
      ],
      "execution_count": 0,
      "outputs": []
    },
    {
      "cell_type": "code",
      "metadata": {
        "id": "vspX3J930PLK",
        "colab_type": "code",
        "outputId": "f1962375-2355-4208-d363-8177e5870ca5",
        "colab": {
          "base_uri": "https://localhost:8080/",
          "height": 51
        }
      },
      "source": [
        "print(U)"
      ],
      "execution_count": 0,
      "outputs": [
        {
          "output_type": "stream",
          "text": [
            "[[-0.46410668 -0.88577931]\n",
            " [-0.88577931  0.46410668]]\n"
          ],
          "name": "stdout"
        }
      ]
    },
    {
      "cell_type": "code",
      "metadata": {
        "id": "hM9P2xSp0QJm",
        "colab_type": "code",
        "outputId": "da7b4c4d-6873-4fe0-8be9-abeb2b947b76",
        "colab": {
          "base_uri": "https://localhost:8080/",
          "height": 68
        }
      },
      "source": [
        "print(D)\n",
        "print(np.diag(D))"
      ],
      "execution_count": 0,
      "outputs": [
        {
          "output_type": "stream",
          "text": [
            "[7.97638869 0.61418515]\n",
            "[[7.97638869 0.        ]\n",
            " [0.         0.61418515]]\n"
          ],
          "name": "stdout"
        }
      ]
    },
    {
      "cell_type": "code",
      "metadata": {
        "id": "_QLacnfL0bAS",
        "colab_type": "code",
        "colab": {}
      },
      "source": [
        "print(V)"
      ],
      "execution_count": 0,
      "outputs": []
    },
    {
      "cell_type": "markdown",
      "metadata": {
        "id": "oKDeba45286n",
        "colab_type": "text"
      },
      "source": [
        "#### decomposition\n",
        "\n",
        "A = U•D_diag•V\n",
        "\n",
        "D is used as a nexus of different dimensions"
      ]
    },
    {
      "cell_type": "code",
      "metadata": {
        "id": "SmtjqX1A3aYs",
        "colab_type": "code",
        "colab": {}
      },
      "source": [
        ""
      ],
      "execution_count": 0,
      "outputs": []
    }
  ]
}