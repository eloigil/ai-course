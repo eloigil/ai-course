{
  "nbformat": 4,
  "nbformat_minor": 0,
  "metadata": {
    "colab": {
      "name": "02_autovalues_and_autovectors.ipynb",
      "provenance": [],
      "collapsed_sections": [],
      "authorship_tag": "ABX9TyOiKIcMBvss+/yf+shTrQHv",
      "include_colab_link": true
    },
    "kernelspec": {
      "name": "python3",
      "display_name": "Python 3"
    }
  },
  "cells": [
    {
      "cell_type": "markdown",
      "metadata": {
        "id": "view-in-github",
        "colab_type": "text"
      },
      "source": [
        "<a href=\"https://colab.research.google.com/github/eloigil/ai-course/blob/master/10-linear-algebra-for-ml/02_autovalues_and_autovectors.ipynb\" target=\"_parent\"><img src=\"https://colab.research.google.com/assets/colab-badge.svg\" alt=\"Open In Colab\"/></a>"
      ]
    },
    {
      "cell_type": "code",
      "metadata": {
        "id": "zK0LFCxRm5ap",
        "colab_type": "code",
        "colab": {}
      },
      "source": [
        "%matplotlib inline\n",
        "\n",
        "import numpy as np\n",
        "import matplotlib.pyplot as plt"
      ],
      "execution_count": 0,
      "outputs": []
    },
    {
      "cell_type": "code",
      "metadata": {
        "id": "SMi7gDXOndeh",
        "colab_type": "code",
        "colab": {}
      },
      "source": [
        "def graphVectors(vects, cols, alpha=1):\n",
        "  plt.axvline(x=0, color='grey', zorder=0)\n",
        "  plt.axhline(y=0, color='grey', zorder=0)\n",
        "\n",
        "  for i in range(len(vects)):\n",
        "    x = np.concatenate([[0,0], vects[i]])\n",
        "    plt.quiver([x[0]],\n",
        "               [x[1]],\n",
        "               [x[2]],\n",
        "               [x[3]],\n",
        "               angles='xy',\n",
        "               scale_units='xy',\n",
        "               scale=1,\n",
        "               color=cols[i],\n",
        "               alpha=alpha\n",
        "              )"
      ],
      "execution_count": 0,
      "outputs": []
    },
    {
      "cell_type": "code",
      "metadata": {
        "id": "J7N-PJMpnoa1",
        "colab_type": "code",
        "colab": {}
      },
      "source": [
        "orange_light = '#FF9A13'\n",
        "blue_light = '#1190FF'"
      ],
      "execution_count": 0,
      "outputs": []
    },
    {
      "cell_type": "code",
      "metadata": {
        "id": "Fysau_gjn3EP",
        "colab_type": "code",
        "colab": {
          "base_uri": "https://localhost:8080/",
          "height": 51
        },
        "outputId": "ae8e6fd9-aa73-4efd-d5ca-5ebb0b8a6c55"
      },
      "source": [
        "X = np.array([[3,2],[4,1]])\n",
        "print(X)"
      ],
      "execution_count": 6,
      "outputs": [
        {
          "output_type": "stream",
          "text": [
            "[[3 2]\n",
            " [4 1]]\n"
          ],
          "name": "stdout"
        }
      ]
    },
    {
      "cell_type": "code",
      "metadata": {
        "id": "Y9B3UOmqoP2V",
        "colab_type": "code",
        "colab": {
          "base_uri": "https://localhost:8080/",
          "height": 51
        },
        "outputId": "369e340d-e743-463a-e87f-424e6bd651d8"
      },
      "source": [
        "v = np.array([[1],[1]])\n",
        "print(v)"
      ],
      "execution_count": 7,
      "outputs": [
        {
          "output_type": "stream",
          "text": [
            "[[1]\n",
            " [1]]\n"
          ],
          "name": "stdout"
        }
      ]
    },
    {
      "cell_type": "code",
      "metadata": {
        "id": "Rnn4pS0WoWfi",
        "colab_type": "code",
        "colab": {
          "base_uri": "https://localhost:8080/",
          "height": 51
        },
        "outputId": "5d8a9d2a-3733-4036-d003-035ef8e4dca9"
      },
      "source": [
        "u = X.dot(v)\n",
        "print(u)"
      ],
      "execution_count": 9,
      "outputs": [
        {
          "output_type": "stream",
          "text": [
            "[[5]\n",
            " [5]]\n"
          ],
          "name": "stdout"
        }
      ]
    },
    {
      "cell_type": "code",
      "metadata": {
        "id": "GvlwKg9Noc-g",
        "colab_type": "code",
        "colab": {
          "base_uri": "https://localhost:8080/",
          "height": 286
        },
        "outputId": "1eb4605b-1fed-4402-e662-f14c28f2a085"
      },
      "source": [
        "graphVectors([u.flatten(), v.flatten()], cols=[orange_light, blue_light])\n",
        "\n",
        "plt.xlim(-1,6)\n",
        "plt.ylim(-1,6)"
      ],
      "execution_count": 10,
      "outputs": [
        {
          "output_type": "execute_result",
          "data": {
            "text/plain": [
              "(-1.0, 6.0)"
            ]
          },
          "metadata": {
            "tags": []
          },
          "execution_count": 10
        },
        {
          "output_type": "display_data",
          "data": {
            "image/png": "[encoded data removed]",
            "text/plain": [
              "<Figure size 432x288 with 1 Axes>"
            ]
          },
          "metadata": {
            "tags": [],
            "needs_background": "light"
          }
        }
      ]
    },
    {
      "cell_type": "code",
      "metadata": {
        "id": "CaDAVaiZpM7F",
        "colab_type": "code",
        "colab": {
          "base_uri": "https://localhost:8080/",
          "height": 51
        },
        "outputId": "6c92117c-8cf4-4134-8ea8-e8e0c78d93f9"
      },
      "source": [
        "lambda_1 = 5\n",
        "lambda_1 * v"
      ],
      "execution_count": 12,
      "outputs": [
        {
          "output_type": "execute_result",
          "data": {
            "text/plain": [
              "array([[5],\n",
              "       [5]])"
            ]
          },
          "metadata": {
            "tags": []
          },
          "execution_count": 12
        }
      ]
    },
    {
      "cell_type": "code",
      "metadata": {
        "id": "WfK2gYp6ptgY",
        "colab_type": "code",
        "colab": {
          "base_uri": "https://localhost:8080/",
          "height": 51
        },
        "outputId": "1c6bb518-4151-450f-b311-d1f4c0aa4791"
      },
      "source": [
        "s = np.array([[-1],[2]])\n",
        "print(s)"
      ],
      "execution_count": 15,
      "outputs": [
        {
          "output_type": "stream",
          "text": [
            "[[-1]\n",
            " [ 2]]\n"
          ],
          "name": "stdout"
        }
      ]
    },
    {
      "cell_type": "code",
      "metadata": {
        "id": "F-aI_YSlp5Cv",
        "colab_type": "code",
        "colab": {
          "base_uri": "https://localhost:8080/",
          "height": 51
        },
        "outputId": "98f9d7c1-3e21-4e15-aeb7-a01856bdd5a7"
      },
      "source": [
        "t = X.dot(s)\n",
        "print(t)"
      ],
      "execution_count": 17,
      "outputs": [
        {
          "output_type": "stream",
          "text": [
            "[[ 1]\n",
            " [-2]]\n"
          ],
          "name": "stdout"
        }
      ]
    },
    {
      "cell_type": "code",
      "metadata": {
        "id": "uIN4HzkMqIzL",
        "colab_type": "code",
        "outputId": "a5842b48-d5cd-49f2-8d12-df4448a10d69",
        "colab": {
          "base_uri": "https://localhost:8080/",
          "height": 286
        }
      },
      "source": [
        "graphVectors([t.flatten(), s.flatten()], cols=[orange_light, blue_light])\n",
        "\n",
        "plt.xlim(-3,3)\n",
        "plt.ylim(-3,3)"
      ],
      "execution_count": 0,
      "outputs": [
        {
          "output_type": "execute_result",
          "data": {
            "text/plain": [
              "(-3.0, 3.0)"
            ]
          },
          "metadata": {
            "tags": []
          },
          "execution_count": 18
        },
        {
          "output_type": "display_data",
          "data": {
            "image/png": "[encoded data removed]",
            "text/plain": [
              "<Figure size 432x288 with 1 Axes>"
            ]
          },
          "metadata": {
            "tags": [],
            "needs_background": "light"
          }
        }
      ]
    },
    {
      "cell_type": "markdown",
      "metadata": {
        "id": "K9CZEO37qxsb",
        "colab_type": "text"
      },
      "source": [
        "---\n",
        "# Calculate autovalues and autovectors"
      ]
    },
    {
      "cell_type": "code",
      "metadata": {
        "id": "giDlaD7zq_b3",
        "colab_type": "code",
        "colab": {
          "base_uri": "https://localhost:8080/",
          "height": 51
        },
        "outputId": "162c2bf6-410d-4c7d-88a8-e18498fdc44f"
      },
      "source": [
        "X = np.array([[3,2],[4,1]])\n",
        "print(X)"
      ],
      "execution_count": 19,
      "outputs": [
        {
          "output_type": "stream",
          "text": [
            "[[3 2]\n",
            " [4 1]]\n"
          ],
          "name": "stdout"
        }
      ]
    },
    {
      "cell_type": "code",
      "metadata": {
        "id": "IBe8EohPrJ0K",
        "colab_type": "code",
        "colab": {
          "base_uri": "https://localhost:8080/",
          "height": 51
        },
        "outputId": "9e31bd29-c5ca-457a-c593-1d1d6603bb66"
      },
      "source": [
        "print(np.linalg.eig(X))"
      ],
      "execution_count": 20,
      "outputs": [
        {
          "output_type": "stream",
          "text": [
            "(array([ 5., -1.]), array([[ 0.70710678, -0.4472136 ],\n",
            "       [ 0.70710678,  0.89442719]]))\n"
          ],
          "name": "stdout"
        }
      ]
    },
    {
      "cell_type": "code",
      "metadata": {
        "id": "vnPu794uraoL",
        "colab_type": "code",
        "colab": {
          "base_uri": "https://localhost:8080/",
          "height": 34
        },
        "outputId": "326dfb77-8117-4b52-9084-ff5ddad92a3c"
      },
      "source": [
        "autovals, autovects = np.linalg.eig(X)\n",
        "print(autovals)"
      ],
      "execution_count": 22,
      "outputs": [
        {
          "output_type": "stream",
          "text": [
            "[ 5. -1.]\n"
          ],
          "name": "stdout"
        }
      ]
    },
    {
      "cell_type": "code",
      "metadata": {
        "id": "yNWK8sSErzQc",
        "colab_type": "code",
        "colab": {
          "base_uri": "https://localhost:8080/",
          "height": 34
        },
        "outputId": "d6b8c3c4-62d6-473a-a114-eb0a689fd0b2"
      },
      "source": [
        "print(autovects[:,0])"
      ],
      "execution_count": 23,
      "outputs": [
        {
          "output_type": "stream",
          "text": [
            "[0.70710678 0.70710678]\n"
          ],
          "name": "stdout"
        }
      ]
    },
    {
      "cell_type": "code",
      "metadata": {
        "id": "F2sgbSnlr6m5",
        "colab_type": "code",
        "colab": {
          "base_uri": "https://localhost:8080/",
          "height": 34
        },
        "outputId": "c89e5569-54e5-4dcf-aed2-514d8cc314ad"
      },
      "source": [
        "print(autovects[:,1])"
      ],
      "execution_count": 24,
      "outputs": [
        {
          "output_type": "stream",
          "text": [
            "[-0.4472136   0.89442719]\n"
          ],
          "name": "stdout"
        }
      ]
    },
    {
      "cell_type": "code",
      "metadata": {
        "id": "Ua5sXIWIsBT8",
        "colab_type": "code",
        "colab": {}
      },
      "source": [
        "v = np.array([[-1],[2]])\n",
        "Xv = X.dot(v)\n",
        "\n",
        "v_np = autovects[:,1]"
      ],
      "execution_count": 0,
      "outputs": []
    },
    {
      "cell_type": "code",
      "metadata": {
        "id": "LenDRbsEsYUI",
        "colab_type": "code",
        "colab": {
          "base_uri": "https://localhost:8080/",
          "height": 282
        },
        "outputId": "2a36d172-bc30-4fe6-c4e7-e5139becf5bb"
      },
      "source": [
        "graphVectors([Xv.flatten(), v.flatten(), v_np], cols=['green', 'orange', 'blue'])\n",
        "\n",
        "plt.xlim(-4,2)\n",
        "plt.ylim(-7,3)"
      ],
      "execution_count": 26,
      "outputs": [
        {
          "output_type": "execute_result",
          "data": {
            "text/plain": [
              "(-7.0, 3.0)"
            ]
          },
          "metadata": {
            "tags": []
          },
          "execution_count": 26
        },
        {
          "output_type": "display_data",
          "data": {
            "image/png": "[encoded data removed]",
            "text/plain": [
              "<Figure size 432x288 with 1 Axes>"
            ]
          },
          "metadata": {
            "tags": [],
            "needs_background": "light"
          }
        }
      ]
    }
  ]
}