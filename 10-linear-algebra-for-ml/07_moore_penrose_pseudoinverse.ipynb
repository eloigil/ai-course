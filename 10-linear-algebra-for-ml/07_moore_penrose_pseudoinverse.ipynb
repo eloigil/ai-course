{
  "nbformat": 4,
  "nbformat_minor": 0,
  "metadata": {
    "colab": {
      "name": "07_moore_penrose_pseudoinverse.ipynb",
      "provenance": [],
      "collapsed_sections": [],
      "authorship_tag": "ABX9TyNlfB8C6wnnlQJEJRFF49y/",
      "include_colab_link": true
    },
    "kernelspec": {
      "name": "python3",
      "display_name": "Python 3"
    }
  },
  "cells": [
    {
      "cell_type": "markdown",
      "metadata": {
        "id": "view-in-github",
        "colab_type": "text"
      },
      "source": [
        "<a href=\"https://colab.research.google.com/github/eloigil/ai-course/blob/master/10-linear-algebra-for-ml/07_moore_penrose_pseudoinverse.ipynb\" target=\"_parent\"><img src=\"https://colab.research.google.com/assets/colab-badge.svg\" alt=\"Open In Colab\"/></a>"
      ]
    },
    {
      "cell_type": "code",
      "metadata": {
        "id": "wXxGZCMsz8ey",
        "colab_type": "code",
        "colab": {}
      },
      "source": [
        "import numpy as np\n",
        "\n",
        "np.set_printoptions(suppress=True)"
      ],
      "execution_count": 0,
      "outputs": []
    },
    {
      "cell_type": "code",
      "metadata": {
        "id": "-mD1XxdO0Prw",
        "colab_type": "code",
        "colab": {
          "base_uri": "https://localhost:8080/",
          "height": 68
        },
        "outputId": "17cd805d-770d-4547-abac-fa9ee3f9b5d7"
      },
      "source": [
        "A = np.array([[2,3],[5,7],[11,13]])\n",
        "print(A)"
      ],
      "execution_count": 3,
      "outputs": [
        {
          "output_type": "stream",
          "text": [
            "[[ 2  3]\n",
            " [ 5  7]\n",
            " [11 13]]\n"
          ],
          "name": "stdout"
        }
      ]
    },
    {
      "cell_type": "code",
      "metadata": {
        "id": "Bu5M-2zU0eiv",
        "colab_type": "code",
        "colab": {
          "base_uri": "https://localhost:8080/",
          "height": 170
        },
        "outputId": "21663521-ded4-429d-984d-563345293ca8"
      },
      "source": [
        "U,D,V = np.linalg.svd(A)\n",
        "print('U')\n",
        "print(U)\n",
        "print('D')\n",
        "print(D)\n",
        "print('V')\n",
        "print(V)"
      ],
      "execution_count": 4,
      "outputs": [
        {
          "output_type": "stream",
          "text": [
            "U\n",
            "[[-0.18499741 -0.47276624 -0.86154979]\n",
            " [-0.44249308 -0.74271297  0.50257071]\n",
            " [-0.87748267  0.4742041  -0.07179582]]\n",
            "D\n",
            "[19.40321383  0.71783924]\n",
            "V\n",
            "[[-0.63055377 -0.77614557]\n",
            " [ 0.77614557 -0.63055377]]\n"
          ],
          "name": "stdout"
        }
      ]
    },
    {
      "cell_type": "code",
      "metadata": {
        "id": "PrrRC8b80zWL",
        "colab_type": "code",
        "colab": {
          "base_uri": "https://localhost:8080/",
          "height": 51
        },
        "outputId": "6670ae5f-7108-48d8-86ba-41e4fbfd7d43"
      },
      "source": [
        "D_pseud = np.zeros((A.shape[0], A.shape[1])).T\n",
        "print(D_pseud)"
      ],
      "execution_count": 5,
      "outputs": [
        {
          "output_type": "stream",
          "text": [
            "[[0. 0. 0.]\n",
            " [0. 0. 0.]]\n"
          ],
          "name": "stdout"
        }
      ]
    },
    {
      "cell_type": "code",
      "metadata": {
        "id": "1h1hg7Qs1Kx-",
        "colab_type": "code",
        "colab": {
          "base_uri": "https://localhost:8080/",
          "height": 68
        },
        "outputId": "e2338af9-b5c3-489f-baaa-648e844f3c32"
      },
      "source": [
        "print('Values to replace in D_pseud')\n",
        "print(D_pseud[:D.shape[0], :D.shape[0]])"
      ],
      "execution_count": 6,
      "outputs": [
        {
          "output_type": "stream",
          "text": [
            "Values to replace in D_pseud\n",
            "[[0. 0.]\n",
            " [0. 0.]]\n"
          ],
          "name": "stdout"
        }
      ]
    },
    {
      "cell_type": "code",
      "metadata": {
        "id": "YTx8pKMM12HG",
        "colab_type": "code",
        "colab": {
          "base_uri": "https://localhost:8080/",
          "height": 68
        },
        "outputId": "cb13a338-c916-474b-f69b-d8140a843131"
      },
      "source": [
        "print('Values to put in D_pseud')\n",
        "print(np.linalg.inv(np.diag(D)))"
      ],
      "execution_count": 7,
      "outputs": [
        {
          "output_type": "stream",
          "text": [
            "Values to put in D_pseud\n",
            "[[0.05153785 0.        ]\n",
            " [0.         1.39306957]]\n"
          ],
          "name": "stdout"
        }
      ]
    },
    {
      "cell_type": "code",
      "metadata": {
        "id": "mlq2Ig7T2JaQ",
        "colab_type": "code",
        "colab": {
          "base_uri": "https://localhost:8080/",
          "height": 68
        },
        "outputId": "24bf9824-f839-4edc-d160-8d5aa993214f"
      },
      "source": [
        "print('D_pseud')\n",
        "D_pseud[:D.shape[0], :D.shape[0]] = np.linalg.inv(np.diag(D))\n",
        "print(D_pseud)"
      ],
      "execution_count": 8,
      "outputs": [
        {
          "output_type": "stream",
          "text": [
            "D_pseud\n",
            "[[0.05153785 0.         0.        ]\n",
            " [0.         1.39306957 0.        ]]\n"
          ],
          "name": "stdout"
        }
      ]
    },
    {
      "cell_type": "code",
      "metadata": {
        "id": "pTj-BPEh2zDG",
        "colab_type": "code",
        "colab": {
          "base_uri": "https://localhost:8080/",
          "height": 51
        },
        "outputId": "0f4e696b-dd33-429f-c900-e083f0fd2a94"
      },
      "source": [
        "A_pseud = V.T.dot(D_pseud).dot(U.T)\n",
        "print(A_pseud)"
      ],
      "execution_count": 9,
      "outputs": [
        {
          "output_type": "stream",
          "text": [
            "[[-0.50515464 -0.78865979  0.54123711]\n",
            " [ 0.42268041  0.67010309 -0.3814433 ]]\n"
          ],
          "name": "stdout"
        }
      ]
    },
    {
      "cell_type": "code",
      "metadata": {
        "id": "iHl4D3za3H9o",
        "colab_type": "code",
        "colab": {
          "base_uri": "https://localhost:8080/",
          "height": 51
        },
        "outputId": "5461c9a1-3cec-4cac-dac4-836571fe30be"
      },
      "source": [
        "A_pseud_calc = np.linalg.pinv(A)\n",
        "print(A_pseud_calc)"
      ],
      "execution_count": 10,
      "outputs": [
        {
          "output_type": "stream",
          "text": [
            "[[-0.50515464 -0.78865979  0.54123711]\n",
            " [ 0.42268041  0.67010309 -0.3814433 ]]\n"
          ],
          "name": "stdout"
        }
      ]
    },
    {
      "cell_type": "code",
      "metadata": {
        "id": "fx6yNIRr3lc5",
        "colab_type": "code",
        "colab": {
          "base_uri": "https://localhost:8080/",
          "height": 51
        },
        "outputId": "1cfe62ed-b4e2-420d-8286-bd409397b164"
      },
      "source": [
        "print(A_pseud.dot(A))"
      ],
      "execution_count": 11,
      "outputs": [
        {
          "output_type": "stream",
          "text": [
            "[[ 1. -0.]\n",
            " [ 0.  1.]]\n"
          ],
          "name": "stdout"
        }
      ]
    },
    {
      "cell_type": "markdown",
      "metadata": {
        "id": "lmy49y5n43-t",
        "colab_type": "text"
      },
      "source": [
        "---\n",
        "---\n",
        "## Using pseudoinverse to solve an overdetermined system"
      ]
    },
    {
      "cell_type": "code",
      "metadata": {
        "id": "BUiXc0hE6BoD",
        "colab_type": "code",
        "colab": {}
      },
      "source": [
        "%matplotlib inline\n",
        "\n",
        "import matplotlib.pyplot as plt"
      ],
      "execution_count": 0,
      "outputs": []
    },
    {
      "cell_type": "code",
      "metadata": {
        "id": "-Mdy5Pcu5CeP",
        "colab_type": "code",
        "colab": {
          "base_uri": "https://localhost:8080/",
          "height": 269
        },
        "outputId": "6c15fd9e-4a62-4c95-8800-d70dfd7a393a"
      },
      "source": [
        "x = np.linspace(-5,5,1000)\n",
        "\n",
        "y_1 = -4*x + 3\n",
        "y_2 = 2*x + 5\n",
        "y_3 = -3*x + 1\n",
        "\n",
        "plt.plot(x, y_1)\n",
        "plt.plot(x, y_2)\n",
        "plt.plot(x, y_3)\n",
        "\n",
        "plt.xlim(-2, 2.5)\n",
        "plt.ylim(-6, 6)\n",
        "\n",
        "plt.show()"
      ],
      "execution_count": 16,
      "outputs": [
        {
          "output_type": "display_data",
          "data": {
            "image/png": "[encoded data removed]",
            "text/plain": [
              "<Figure size 432x288 with 1 Axes>"
            ]
          },
          "metadata": {
            "tags": [],
            "needs_background": "light"
          }
        }
      ]
    },
    {
      "cell_type": "code",
      "metadata": {
        "id": "mnSgh8Vo6aIa",
        "colab_type": "code",
        "colab": {
          "base_uri": "https://localhost:8080/",
          "height": 68
        },
        "outputId": "6ca41d36-4687-4635-a37d-48412673a0df"
      },
      "source": [
        "matrix = np.array([[4,1],[-2,1],[3,1]])\n",
        "print(matrix)"
      ],
      "execution_count": 18,
      "outputs": [
        {
          "output_type": "stream",
          "text": [
            "[[ 4  1]\n",
            " [-2  1]\n",
            " [ 3  1]]\n"
          ],
          "name": "stdout"
        }
      ]
    },
    {
      "cell_type": "code",
      "metadata": {
        "id": "hQVPm9xv6ncX",
        "colab_type": "code",
        "colab": {
          "base_uri": "https://localhost:8080/",
          "height": 51
        },
        "outputId": "0353eff8-5465-47ae-8cc2-572b9d38c6e7"
      },
      "source": [
        "matrix_pseud = np.linalg.pinv(matrix)\n",
        "print(matrix_pseud)"
      ],
      "execution_count": 20,
      "outputs": [
        {
          "output_type": "stream",
          "text": [
            "[[ 0.11290323 -0.17741935  0.06451613]\n",
            " [ 0.14516129  0.62903226  0.22580645]]\n"
          ],
          "name": "stdout"
        }
      ]
    },
    {
      "cell_type": "code",
      "metadata": {
        "id": "GS_6PYFZ60Yx",
        "colab_type": "code",
        "colab": {
          "base_uri": "https://localhost:8080/",
          "height": 68
        },
        "outputId": "3e9a6e79-5173-4e65-da0b-62a8667345d3"
      },
      "source": [
        "b = np.array([[3],[5],[1]])\n",
        "print(b)"
      ],
      "execution_count": 21,
      "outputs": [
        {
          "output_type": "stream",
          "text": [
            "[[3]\n",
            " [5]\n",
            " [1]]\n"
          ],
          "name": "stdout"
        }
      ]
    },
    {
      "cell_type": "code",
      "metadata": {
        "id": "K_S0maec7R1-",
        "colab_type": "code",
        "colab": {
          "base_uri": "https://localhost:8080/",
          "height": 51
        },
        "outputId": "7c22e94c-d537-474c-fe8c-72b409c3f2dc"
      },
      "source": [
        "result = matrix_pseud.dot(b)\n",
        "print(result)"
      ],
      "execution_count": 23,
      "outputs": [
        {
          "output_type": "stream",
          "text": [
            "[[-0.48387097]\n",
            " [ 3.80645161]]\n"
          ],
          "name": "stdout"
        }
      ]
    },
    {
      "cell_type": "code",
      "metadata": {
        "id": "YyKf0e-W7dBJ",
        "colab_type": "code",
        "colab": {
          "base_uri": "https://localhost:8080/",
          "height": 269
        },
        "outputId": "96c4b779-736f-441f-f392-00c7e36cd1a6"
      },
      "source": [
        "plt.plot(x, y_1)\n",
        "plt.plot(x, y_2)\n",
        "plt.plot(x, y_3)\n",
        "\n",
        "plt.xlim(-2, 2.5)\n",
        "plt.ylim(-6, 6)\n",
        "\n",
        "plt.scatter(result[0],result[1])\n",
        "\n",
        "plt.show()"
      ],
      "execution_count": 24,
      "outputs": [
        {
          "output_type": "display_data",
          "data": {
            "image/png": "[encoded data removed]",
            "text/plain": [
              "<Figure size 432x288 with 1 Axes>"
            ]
          },
          "metadata": {
            "tags": [],
            "needs_background": "light"
          }
        }
      ]
    }
  ]
}