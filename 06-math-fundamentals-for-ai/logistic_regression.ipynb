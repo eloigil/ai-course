{
  "nbformat": 4,
  "nbformat_minor": 0,
  "metadata": {
    "colab": {
      "name": "Untitled0.ipynb",
      "provenance": [],
      "collapsed_sections": [],
      "authorship_tag": "ABX9TyN0d94kfc/4ZSZOKIvAfbjr",
      "include_colab_link": true
    },
    "kernelspec": {
      "name": "python2",
      "display_name": "Python 2"
    }
  },
  "cells": [
    {
      "cell_type": "markdown",
      "metadata": {
        "id": "view-in-github",
        "colab_type": "text"
      },
      "source": [
        "<a href=\"https://colab.research.google.com/github/eloigil/ai-course/blob/master/06-math-fundamentals-for-ai/logistic_regression.ipynb\" target=\"_parent\"><img src=\"https://colab.research.google.com/assets/colab-badge.svg\" alt=\"Open In Colab\"/></a>"
      ]
    },
    {
      "cell_type": "code",
      "metadata": {
        "id": "Y34SP-9eglF9",
        "colab_type": "code",
        "colab": {
          "base_uri": "https://localhost:8080/",
          "height": 190
        },
        "outputId": "cf5d0ac2-76e5-496c-a9df-775fb168deaa"
      },
      "source": [
        "import numpy as np\n",
        "\n",
        "x=np.array([0.5, 0.75, 1, 1.25, 1.5, 1.75, 1.75, 2, 2.25, 2.5, 2.75, 3, 3.25, 3.5, 4, 4.25, 4.5,\n",
        "4.75, 5, 5.5]).reshape(-1,1)\n",
        "y=np.array([0, 0, 0, 0, 0, 0, 1, 0, 1, 0, 1, 0, 1, 0, 1, 1, 1, 1, 1, 1])\n",
        "\n",
        "from sklearn.linear_model import LogisticRegression\n",
        "regresion_logistica=LogisticRegression()\n",
        "regresion_logistica.fit(x,y)\n",
        "\n",
        "x_nuevo = np.array([1,2,3,4,5,6]).reshape(-1,1)\n",
        "prediccion = regresion_logistica.predict(x_nuevo)\n",
        "probabilidades_prediccion = regresion_logistica.predict_proba(x_nuevo)\n",
        "\n",
        "print(probabilidades_prediccion)\n",
        "print(probabilidades_prediccion[:,1])\n",
        "\n",
        "probabilidades_prediccion = regresion_logistica.predict_proba(x_nuevo)"
      ],
      "execution_count": 2,
      "outputs": [
        {
          "output_type": "stream",
          "text": [
            "[[0.6801015  0.3198985 ]\n",
            " [0.53568295 0.46431705]\n",
            " [0.38502138 0.61497862]\n",
            " [0.25359079 0.74640921]\n",
            " [0.15566862 0.84433138]\n",
            " [0.09095092 0.90904908]]\n",
            "[0.3198985  0.46431705 0.61497862 0.74640921 0.84433138 0.90904908]\n"
          ],
          "name": "stdout"
        },
        {
          "output_type": "stream",
          "text": [
            "/usr/local/lib/python2.7/dist-packages/sklearn/linear_model/logistic.py:433: FutureWarning: Default solver will be changed to 'lbfgs' in 0.22. Specify a solver to silence this warning.\n",
            "  FutureWarning)\n"
          ],
          "name": "stderr"
        }
      ]
    }
  ]
}