{
  "nbformat": 4,
  "nbformat_minor": 0,
  "metadata": {
    "colab": {
      "name": "01_dimension_sc_vect_matr_tensor.ipynb",
      "provenance": [],
      "collapsed_sections": [],
      "authorship_tag": "ABX9TyMXWZQWqjYeYB3BNZU0Y6dp",
      "include_colab_link": true
    },
    "kernelspec": {
      "name": "python3",
      "display_name": "Python 3"
    }
  },
  "cells": [
    {
      "cell_type": "markdown",
      "metadata": {
        "id": "view-in-github",
        "colab_type": "text"
      },
      "source": [
        "<a href=\"https://colab.research.google.com/github/eloigil/ai-course/blob/master/09-algebra-in-python/01_dimension_sc_vect_matr_tensor.ipynb\" target=\"_parent\"><img src=\"https://colab.research.google.com/assets/colab-badge.svg\" alt=\"Open In Colab\"/></a>"
      ]
    },
    {
      "cell_type": "markdown",
      "metadata": {
        "id": "e94DTYihMrS4",
        "colab_type": "text"
      },
      "source": [
        "# Dimension scalar, vector, matrix, tensor"
      ]
    },
    {
      "cell_type": "code",
      "metadata": {
        "id": "uPrCAaGRM1lU",
        "colab_type": "code",
        "colab": {}
      },
      "source": [
        "import numpy as np"
      ],
      "execution_count": 0,
      "outputs": []
    },
    {
      "cell_type": "code",
      "metadata": {
        "id": "5FAB7WjrM6JK",
        "colab_type": "code",
        "colab": {}
      },
      "source": [
        "scalar = 5.43\n",
        "vector = np.array([1,2,3])\n",
        "matrix = np.array([[1,2],[3,3]])\n",
        "tensor = np.array([\n",
        "    [[1,2,3],[4,5,6],[7,8,9]],\n",
        "    [[11,12,13],[14,15,16],[17,18,19]],\n",
        "    [[21,22,23],[24,25,26],[27,28,29]],\n",
        "  ])"
      ],
      "execution_count": 0,
      "outputs": []
    },
    {
      "cell_type": "code",
      "metadata": {
        "id": "XFgfseO4Ocuf",
        "colab_type": "code",
        "colab": {
          "base_uri": "https://localhost:8080/",
          "height": 34
        },
        "outputId": "2c0b78e0-d96b-4f00-8cdd-6e640d68755e"
      },
      "source": [
        "print(scalar)"
      ],
      "execution_count": 7,
      "outputs": [
        {
          "output_type": "stream",
          "text": [
            "5.43\n"
          ],
          "name": "stdout"
        }
      ]
    },
    {
      "cell_type": "markdown",
      "metadata": {
        "id": "W_wQHjzqOt6k",
        "colab_type": "text"
      },
      "source": [
        "*.shape* method returns the dimension of the element"
      ]
    },
    {
      "cell_type": "code",
      "metadata": {
        "id": "GkXFJglBPRpw",
        "colab_type": "code",
        "colab": {
          "base_uri": "https://localhost:8080/",
          "height": 181
        },
        "outputId": "cdb1e543-8394-45b8-e0d9-2e3366ec07fb"
      },
      "source": [
        "scalar.shape\n",
        "# scalars have no shape method"
      ],
      "execution_count": 10,
      "outputs": [
        {
          "output_type": "error",
          "ename": "AttributeError",
          "evalue": "ignored",
          "traceback": [
            "\u001b[0;31m---------------------------------------------------------------------------\u001b[0m",
            "\u001b[0;31mAttributeError\u001b[0m                            Traceback (most recent call last)",
            "\u001b[0;32m<ipython-input-10-0ced97c327ac>\u001b[0m in \u001b[0;36m<module>\u001b[0;34m()\u001b[0m\n\u001b[0;32m----> 1\u001b[0;31m \u001b[0mscalar\u001b[0m\u001b[0;34m.\u001b[0m\u001b[0mshape\u001b[0m\u001b[0;34m\u001b[0m\u001b[0;34m\u001b[0m\u001b[0m\n\u001b[0m\u001b[1;32m      2\u001b[0m \u001b[0;31m# scalars have no shape method\u001b[0m\u001b[0;34m\u001b[0m\u001b[0;34m\u001b[0m\u001b[0;34m\u001b[0m\u001b[0m\n",
            "\u001b[0;31mAttributeError\u001b[0m: 'float' object has no attribute 'shape'"
          ]
        }
      ]
    },
    {
      "cell_type": "code",
      "metadata": {
        "id": "14pH8bgXPh5t",
        "colab_type": "code",
        "colab": {
          "base_uri": "https://localhost:8080/",
          "height": 68
        },
        "outputId": "386a299a-a443-4f6a-d157-e162544b9aa0"
      },
      "source": [
        "print(vector)\n",
        "print(len(vector)) #shows first dimension\n",
        "print(vector.shape)"
      ],
      "execution_count": 12,
      "outputs": [
        {
          "output_type": "stream",
          "text": [
            "[1 2 3]\n",
            "3\n",
            "(3,)\n"
          ],
          "name": "stdout"
        }
      ]
    },
    {
      "cell_type": "code",
      "metadata": {
        "id": "WxEvPPWDP8Ev",
        "colab_type": "code",
        "colab": {
          "base_uri": "https://localhost:8080/",
          "height": 102
        },
        "outputId": "68aa00f6-7250-4463-adab-66d2b35c2e84"
      },
      "source": [
        "print(matrix)\n",
        "print(len(matrix)) #shows first dimension\n",
        "print(matrix.shape)\n",
        "print(matrix.size) #total amount of elements"
      ],
      "execution_count": 14,
      "outputs": [
        {
          "output_type": "stream",
          "text": [
            "[[1 2]\n",
            " [3 3]]\n",
            "2\n",
            "(2, 2)\n",
            "4\n"
          ],
          "name": "stdout"
        }
      ]
    },
    {
      "cell_type": "code",
      "metadata": {
        "id": "1SOoI4_5QVQh",
        "colab_type": "code",
        "colab": {
          "base_uri": "https://localhost:8080/",
          "height": 255
        },
        "outputId": "230b3443-0c25-40d7-9640-b65732d648bc"
      },
      "source": [
        "print(tensor)\n",
        "print(len(tensor)) #shows first dimension\n",
        "print(tensor.shape)\n",
        "print(tensor.size) #total amount of elements"
      ],
      "execution_count": 15,
      "outputs": [
        {
          "output_type": "stream",
          "text": [
            "[[[ 1  2  3]\n",
            "  [ 4  5  6]\n",
            "  [ 7  8  9]]\n",
            "\n",
            " [[11 12 13]\n",
            "  [14 15 16]\n",
            "  [17 18 19]]\n",
            "\n",
            " [[21 22 23]\n",
            "  [24 25 26]\n",
            "  [27 28 29]]]\n",
            "3\n",
            "(3, 3, 3)\n",
            "27\n"
          ],
          "name": "stdout"
        }
      ]
    }
  ]
}